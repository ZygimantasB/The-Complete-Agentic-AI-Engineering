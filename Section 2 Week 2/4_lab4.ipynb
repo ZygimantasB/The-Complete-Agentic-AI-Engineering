{
 "cells": [
  {
   "cell_type": "code",
   "id": "initial_id",
   "metadata": {
    "collapsed": true,
    "ExecuteTime": {
     "end_time": "2025-10-13T18:30:58.120949Z",
     "start_time": "2025-10-13T18:30:54.996559Z"
    }
   },
   "source": [
    "from agents import Agent, WebSearchTool, trace, Runner, gen_trace_id, function_tool\n",
    "from agents.model_settings import ModelSettings\n",
    "from pydantic import BaseModel, Field\n",
    "from dotenv import load_dotenv\n",
    "import asyncio\n",
    "import sendgrid\n",
    "import os\n",
    "from sendgrid.helpers.mail import Mail, Email, To, Content\n",
    "from typing import Dict\n",
    "from IPython.display import display, Markdown"
   ],
   "outputs": [],
   "execution_count": 1
  },
  {
   "metadata": {
    "ExecuteTime": {
     "end_time": "2025-10-13T18:30:58.147488Z",
     "start_time": "2025-10-13T18:30:58.135961Z"
    }
   },
   "cell_type": "code",
   "source": "load_dotenv(override=True)",
   "id": "b3b98bcecd602caf",
   "outputs": [
    {
     "data": {
      "text/plain": [
       "True"
      ]
     },
     "execution_count": 2,
     "metadata": {},
     "output_type": "execute_result"
    }
   ],
   "execution_count": 2
  },
  {
   "metadata": {
    "ExecuteTime": {
     "end_time": "2025-10-13T18:31:33.027948Z",
     "start_time": "2025-10-13T18:31:33.022825Z"
    }
   },
   "cell_type": "code",
   "source": [
    "INSTRUCTIONS = \"You are a research assistant. Given a search term, you search the web for that term and \\\n",
    "produce a concise summary of the results. The summary must 2-3 paragraphs and less than 300 \\\n",
    "words. Capture the main points. Write succintly, no need to have complete sentences or good \\\n",
    "grammar. This will be consumed by someone synthesizing a report, so it's vital you capture the \\\n",
    "essence and ignore any fluff. Do not include any additional commentary other than the summary itself.\""
   ],
   "id": "d92ef8f546a24823",
   "outputs": [],
   "execution_count": 3
  },
  {
   "metadata": {
    "ExecuteTime": {
     "end_time": "2025-10-13T18:32:12.462326Z",
     "start_time": "2025-10-13T18:32:12.457530Z"
    }
   },
   "cell_type": "code",
   "source": [
    "search_agent = Agent(\n",
    "    name=\"Search agent\",\n",
    "    instructions=INSTRUCTIONS,\n",
    "    tools=[WebSearchTool(search_context_size=\"low\")],\n",
    "    model=\"gpt-4o-mini\",\n",
    "    model_settings=ModelSettings(tool_choice=\"required\"),\n",
    ")"
   ],
   "id": "66a68b10350ac56",
   "outputs": [],
   "execution_count": 4
  },
  {
   "metadata": {
    "ExecuteTime": {
     "end_time": "2025-10-13T18:34:55.777773Z",
     "start_time": "2025-10-13T18:34:48.519808Z"
    }
   },
   "cell_type": "code",
   "source": [
    "message = \"Latest AI Agent frameworks in 2025\"\n",
    "\n",
    "with trace(\"Search\"):\n",
    "    result = await Runner.run(search_agent, message)\n",
    "\n",
    "display(Markdown(result.final_output))"
   ],
   "id": "99d5bca712bc01da",
   "outputs": [
    {
     "data": {
      "text/plain": [
       "<IPython.core.display.Markdown object>"
      ],
      "text/markdown": "As of October 2025, several AI agent frameworks have emerged, each offering unique capabilities:\n\n- **Agent Lightning**: A flexible framework enabling reinforcement learning-based training of large language models (LLMs) for any AI agent. It decouples agent execution from training, allowing integration with various agents with minimal code modifications. ([arxiv.org](https://arxiv.org/abs/2508.03680?utm_source=openai))\n\n- **Polymorphic Combinatorial Framework (PCF)**: Utilizes LLMs and mathematical frameworks to design adaptive AI agents for complex environments. PCF enables real-time parameter reconfiguration through combinatorial spaces, supporting scalable and ethical AI applications. ([arxiv.org](https://arxiv.org/abs/2508.01581?utm_source=openai))\n\n- **Cognitive Kernel-Pro**: An open-source, multi-module agent framework democratizing the development of advanced AI agents. It focuses on curating high-quality training data and enhancing agent robustness, achieving state-of-the-art results among open-source agents. ([arxiv.org](https://arxiv.org/abs/2508.00414?utm_source=openai))\n\n- **OpenAI Agents SDK**: A lightweight Python framework released in March 2025, designed for creating multi-agent workflows with comprehensive tracing and guardrails. It is provider-agnostic, compatible with over 100 different LLMs. ([jlcnews.com](https://www.jlcnews.com/post/the-best-ai-agents-in-2025-tools-frameworks-and-platforms-compared?utm_source=openai))\n\n- **Google Agent Development Kit (ADK)**: Announced in April 2025, this modular framework integrates with Google's ecosystem, including Gemini and Vertex AI. It supports hierarchical agent compositions and requires minimal code for efficient development. ([jlcnews.com](https://www.jlcnews.com/post/the-best-ai-agents-in-2025-tools-frameworks-and-platforms-compared?utm_source=openai))\n\n- **Amazon Bedrock AgentCore**: Unveiled in August 2025, this platform simplifies the development and deployment of advanced AI agents. It includes modular services supporting the full production lifecycle, emphasizing flexibility and scalability. ([techradar.com](https://www.techradar.com/pro/aws-looks-to-super-charge-ai-agents-with-amazon-bedrock-agentcore?utm_source=openai))\n\n- **Model Context Protocol (MCP)**: Introduced by Anthropic in November 2024, MCP is an open-source standard for integrating AI systems with external tools and data sources. It has been adopted by major AI providers, including OpenAI and Google DeepMind. ([en.wikipedia.org](https://en.wikipedia.org/wiki/Model_Context_Protocol?utm_source=openai))\n\n- **Kruti**: A multilingual AI agent developed by Ola Krutrim, released in June 2025. It performs real-world tasks by integrating with various online services and supports multiple Indian languages. ([en.wikipedia.org](https://en.wikipedia.org/wiki/Kruti?utm_source=openai))\n\nThese frameworks reflect the rapid advancements in AI agent development, offering diverse tools for creating intelligent, adaptable, and collaborative systems. "
     },
     "metadata": {},
     "output_type": "display_data"
    }
   ],
   "execution_count": 5
  },
  {
   "metadata": {},
   "cell_type": "code",
   "outputs": [],
   "execution_count": null,
   "source": "",
   "id": "80e82baff1f46a99"
  }
 ],
 "metadata": {
  "kernelspec": {
   "display_name": "Python 3",
   "language": "python",
   "name": "python3"
  },
  "language_info": {
   "codemirror_mode": {
    "name": "ipython",
    "version": 2
   },
   "file_extension": ".py",
   "mimetype": "text/x-python",
   "name": "python",
   "nbconvert_exporter": "python",
   "pygments_lexer": "ipython2",
   "version": "2.7.6"
  }
 },
 "nbformat": 4,
 "nbformat_minor": 5
}
