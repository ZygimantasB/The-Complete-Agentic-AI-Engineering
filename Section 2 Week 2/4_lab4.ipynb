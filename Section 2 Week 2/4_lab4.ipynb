{
 "cells": [
  {
   "cell_type": "code",
   "id": "initial_id",
   "metadata": {
    "collapsed": true,
    "ExecuteTime": {
     "end_time": "2025-10-19T18:53:07.734106Z",
     "start_time": "2025-10-19T18:53:04.813859Z"
    }
   },
   "source": [
    "from agents import Agent, WebSearchTool, trace, Runner, gen_trace_id, function_tool\n",
    "from agents.model_settings import ModelSettings\n",
    "from pydantic import BaseModel, Field\n",
    "from dotenv import load_dotenv\n",
    "import asyncio\n",
    "import sendgrid\n",
    "import os\n",
    "from sendgrid.helpers.mail import Mail, Email, To, Content\n",
    "from typing import Dict\n",
    "from IPython.display import display, Markdown"
   ],
   "outputs": [],
   "execution_count": 1
  },
  {
   "metadata": {
    "ExecuteTime": {
     "end_time": "2025-10-19T18:53:07.760777Z",
     "start_time": "2025-10-19T18:53:07.751465Z"
    }
   },
   "cell_type": "code",
   "source": "load_dotenv(override=True)",
   "id": "b3b98bcecd602caf",
   "outputs": [
    {
     "data": {
      "text/plain": [
       "True"
      ]
     },
     "execution_count": 2,
     "metadata": {},
     "output_type": "execute_result"
    }
   ],
   "execution_count": 2
  },
  {
   "metadata": {
    "ExecuteTime": {
     "end_time": "2025-10-19T18:53:07.808205Z",
     "start_time": "2025-10-19T18:53:07.803061Z"
    }
   },
   "cell_type": "code",
   "source": [
    "INSTRUCTIONS = \"You are a research assistant. Given a search term, you search the web for that term and \\\n",
    "produce a concise summary of the results. The summary must 2-3 paragraphs and less than 300 \\\n",
    "words. Capture the main points. Write succintly, no need to have complete sentences or good \\\n",
    "grammar. This will be consumed by someone synthesizing a report, so it's vital you capture the \\\n",
    "essence and ignore any fluff. Do not include any additional commentary other than the summary itself.\""
   ],
   "id": "d92ef8f546a24823",
   "outputs": [],
   "execution_count": 3
  },
  {
   "metadata": {
    "ExecuteTime": {
     "end_time": "2025-10-19T18:53:07.820277Z",
     "start_time": "2025-10-19T18:53:07.814800Z"
    }
   },
   "cell_type": "code",
   "source": [
    "search_agent = Agent(\n",
    "    name=\"Search agent\",\n",
    "    instructions=INSTRUCTIONS,\n",
    "    tools=[WebSearchTool(search_context_size=\"low\")],\n",
    "    model=\"gpt-4o-mini\",\n",
    "    model_settings=ModelSettings(tool_choice=\"required\"),\n",
    ")"
   ],
   "id": "66a68b10350ac56",
   "outputs": [],
   "execution_count": 4
  },
  {
   "metadata": {
    "ExecuteTime": {
     "end_time": "2025-10-19T18:53:15.571077Z",
     "start_time": "2025-10-19T18:53:07.826888Z"
    }
   },
   "cell_type": "code",
   "source": [
    "message = \"Latest AI Agent frameworks in 2025\"\n",
    "\n",
    "with trace(\"Search\"):\n",
    "    result = await Runner.run(search_agent, message)\n",
    "\n",
    "display(Markdown(result.final_output))"
   ],
   "id": "99d5bca712bc01da",
   "outputs": [
    {
     "data": {
      "text/plain": [
       "<IPython.core.display.Markdown object>"
      ],
      "text/markdown": "In 2025, several AI agent frameworks have emerged, each offering unique capabilities:\n\n- **Agentforce 360**: Salesforce's comprehensive platform for building enterprise AI agents, featuring Agentforce Builder for natural language-based agent creation, Agent Script for defining agent behavior, and Agentforce Voice for realistic phone interactions. ([itpro.com](https://www.itpro.com/technology/artificial-intelligence/salesforce-just-launched-a-new-catch-all-platform-to-build-enterprise-ai-agents?utm_source=openai))\n\n- **Agent Lightning**: A flexible framework enabling reinforcement learning-based training of large language models for any AI agent, supporting integration with existing agents with minimal code modifications. ([arxiv.org](https://arxiv.org/abs/2508.03680?utm_source=openai))\n\n- **Cognitive Kernel-Pro**: An open-source, multi-module agent framework designed to democratize the development and evaluation of advanced AI agents, achieving state-of-the-art results among open-source agents. ([arxiv.org](https://arxiv.org/abs/2508.00414?utm_source=openai))\n\n- **AutoAgent**: A fully-automated, zero-code framework that allows users to create and deploy large language model agents through natural language alone, serving as a versatile multi-agent system for general AI assistants. ([arxiv.org](https://arxiv.org/abs/2502.05957?utm_source=openai))\n\n- **Amazon Bedrock AgentCore**: AWS's platform designed to simplify the development and deployment of advanced AI agents, including features like AgentCore Runtime for scalable serverless deployment and AgentCore Memory for context management. ([techradar.com](https://www.techradar.com/pro/aws-looks-to-super-charge-ai-agents-with-amazon-bedrock-agentcore?utm_source=openai))\n\n- **Model Context Protocol (MCP)**: An open standard introduced by Anthropic to standardize the integration and sharing of data between AI systems and external tools, adopted by major AI providers including OpenAI and Google DeepMind. ([en.wikipedia.org](https://en.wikipedia.org/wiki/Model_Context_Protocol?utm_source=openai))\n\n- **Kruti**: A multilingual AI agent developed by Ola Krutrim, designed to perform real-world tasks for users, such as booking taxis and ordering food, by integrating directly with various online services. ([en.wikipedia.org](https://en.wikipedia.org/wiki/Kruti?utm_source=openai))\n\n- **Manus**: An autonomous AI agent developed by Butterfly Effect Technology, capable of independent reasoning, dynamic planning, and autonomous decision-making. ([en.wikipedia.org](https://en.wikipedia.org/wiki/Manus_%28AI_agent%29?utm_source=openai))\n\nThese frameworks reflect the rapid advancements in AI agent development, offering diverse tools and platforms for creating intelligent, autonomous systems. "
     },
     "metadata": {},
     "output_type": "display_data"
    }
   ],
   "execution_count": 5
  },
  {
   "metadata": {
    "ExecuteTime": {
     "end_time": "2025-10-19T18:53:15.714411Z",
     "start_time": "2025-10-19T18:53:15.709205Z"
    }
   },
   "cell_type": "code",
   "source": [
    "HOW_MANY_SEARCHES = 3\n",
    "\n",
    "INSTRUCTIONS = f\"You are a helpful research assistant. Given a query, come up with a set of web searches \\\n",
    "to perform to best answer the query. Output {HOW_MANY_SEARCHES} terms to query for.\"\n",
    "\n",
    "# Use Pydantic to define the Schema of our response - this is known as \"Structured Outputs\"\n",
    "# With massive thanks to student Wes C. for discovering and fixing a nasty bug with this!\n",
    "\n",
    "class WebSearchItem(BaseModel):\n",
    "    reason: str = Field(description=\"Your reasoning for why this search is important to the query.\")\n",
    "\n",
    "    query: str = Field(description=\"The search term to use for the web search.\")\n",
    "\n",
    "\n",
    "class WebSearchPlan(BaseModel):\n",
    "    searches: list[WebSearchItem] = Field(description=\"A list of web searches to perform to best answer the query.\")\n",
    "\n",
    "\n",
    "planner_agent = Agent(\n",
    "    name=\"PlannerAgent\",\n",
    "    instructions=INSTRUCTIONS,\n",
    "    model=\"gpt-4o-mini\",\n",
    "    output_type=WebSearchPlan,\n",
    ")"
   ],
   "id": "80e82baff1f46a99",
   "outputs": [],
   "execution_count": 6
  },
  {
   "metadata": {
    "ExecuteTime": {
     "end_time": "2025-10-19T18:53:18.796515Z",
     "start_time": "2025-10-19T18:53:15.774644Z"
    }
   },
   "cell_type": "code",
   "source": [
    "message = \"Latest AI Agent frameworks in 2025\"\n",
    "\n",
    "with trace(\"Search\"):\n",
    "    result = await Runner.run(planner_agent, message)\n",
    "    print(result.final_output)"
   ],
   "id": "f43c3fa7cb8fe798",
   "outputs": [
    {
     "name": "stdout",
     "output_type": "stream",
     "text": [
      "searches=[WebSearchItem(reason='To find the latest trends and frameworks for AI agents that are emerging in 2025.', query='latest AI agent frameworks 2025'), WebSearchItem(reason='To get information on specific tools and technologies that are being used for AI agents this year.', query='top AI agent technologies 2025'), WebSearchItem(reason='To learn about advancements in AI agent frameworks and their applications in various industries in 2025.', query='AI agent frameworks applications 2025')]\n"
     ]
    }
   ],
   "execution_count": 7
  },
  {
   "metadata": {
    "ExecuteTime": {
     "end_time": "2025-10-19T19:18:50.083308Z",
     "start_time": "2025-10-19T19:18:50.077654Z"
    }
   },
   "cell_type": "code",
   "source": [
    "INSTRUCTIONS = (\n",
    "    \"You are a senior researcher tasked with writing a cohesive report for a research query. \"\n",
    "    \"You will be provided with the original query, and some initial research done by a research assistant.\\n\"\n",
    "    \"You should first come up with an outline for the report that describes the structure and \"\n",
    "    \"flow of the report. Then, generate the report and return that as your final output.\\n\"\n",
    "    \"The final output should be in markdown format, and it should be lengthy and detailed. Aim \"\n",
    "    \"for 5-10 pages of content, at least 1000 words.\"\n",
    ")\n",
    "\n",
    "\n",
    "class ReportData(BaseModel):\n",
    "    short_summary: str = Field(description=\"A short 2-3 sentence summary of the findings.\")\n",
    "\n",
    "    markdown_report: str = Field(description=\"The final report\")\n",
    "\n",
    "    follow_up_questions: list[str] = Field(description=\"Suggested topics to research further\")\n",
    "\n",
    "\n",
    "writer_agent = Agent(\n",
    "    name=\"WriterAgent\",\n",
    "    instructions=INSTRUCTIONS,\n",
    "    model=\"gpt-4o-mini\",\n",
    "    output_type=ReportData,\n",
    ")"
   ],
   "id": "9af9edadb9074679",
   "outputs": [],
   "execution_count": 8
  },
  {
   "metadata": {
    "ExecuteTime": {
     "end_time": "2025-10-19T19:18:50.498175Z",
     "start_time": "2025-10-19T19:18:50.493405Z"
    }
   },
   "cell_type": "code",
   "source": [
    "async def plan_searches(query: str):\n",
    "    \"\"\" Use the planner_agent to plan which searches to run for the query \"\"\"\n",
    "    print(\"Planning searches...\")\n",
    "    result = await Runner.run(planner_agent, f\"Query: {query}\")\n",
    "    print(f\"Will perform {len(result.final_output.searches)} searches\")\n",
    "    return result.final_output\n",
    "\n",
    "async def perform_searches(search_plan: WebSearchPlan):\n",
    "    \"\"\" Call search() for each item in the search plan \"\"\"\n",
    "    print(\"Searching...\")\n",
    "    tasks = [asyncio.create_task(search(item)) for item in search_plan.searches]\n",
    "    results = await asyncio.gather(*tasks)\n",
    "    print(\"Finished searching\")\n",
    "    return results\n",
    "\n",
    "async def search(item: WebSearchItem):\n",
    "    \"\"\" Use the search agent to run a web search for each item in the search plan \"\"\"\n",
    "    input = f\"Search term: {item.query}\\nReason for searching: {item.reason}\"\n",
    "    result = await Runner.run(search_agent, input)\n",
    "    return result.final_output"
   ],
   "id": "7c12c2b93d825d27",
   "outputs": [],
   "execution_count": 9
  },
  {
   "metadata": {
    "ExecuteTime": {
     "end_time": "2025-10-19T19:18:51.010107Z",
     "start_time": "2025-10-19T19:18:51.004758Z"
    }
   },
   "cell_type": "code",
   "source": [
    "async def write_report(query: str, search_results: list[str]):\n",
    "    \"\"\" Use the writer agent to write a report based on the search results\"\"\"\n",
    "    print(\"Thinking about report...\")\n",
    "    input = f\"Original query: {query}\\nSummarized search results: {search_results}\"\n",
    "    result = await Runner.run(writer_agent, input)\n",
    "    print(\"Finished writing report\")\n",
    "    return result.final_output\n",
    "\n",
    "# async def send_email(report: ReportData):\n",
    "#     \"\"\" Use the email agent to send an email with the report \"\"\"\n",
    "#     print(\"Writing email...\")\n",
    "#     result = await Runner.run(email_agent, report.markdown_report)\n",
    "#     print(\"Email sent\")\n",
    "#     return report"
   ],
   "id": "f5e6b15c4b49e521",
   "outputs": [],
   "execution_count": 10
  },
  {
   "metadata": {
    "ExecuteTime": {
     "end_time": "2025-10-19T19:20:32.575294Z",
     "start_time": "2025-10-19T19:19:57.433686Z"
    }
   },
   "cell_type": "code",
   "source": [
    "query = \"Latest AI Agent frameworks in 2025\"\n",
    "\n",
    "with trace(\"Research trace\"):\n",
    "    print(\"Starting research...\")\n",
    "    search_plan = await plan_searches(query)\n",
    "    search_results = await perform_searches(search_plan)\n",
    "    report = await write_report(query, search_results)\n",
    "    print(\"Report Summary:\")\n",
    "    print(report.short_summary)\n",
    "    print(\"\\nFull Report (Markdown):\")\n",
    "    print(report.markdown_report)\n",
    "    print(\"Hooray!\")\n"
   ],
   "id": "419dcfd3a6cff0a5",
   "outputs": [
    {
     "name": "stdout",
     "output_type": "stream",
     "text": [
      "Starting research...\n",
      "Planning searches...\n",
      "Will perform 3 searches\n",
      "Searching...\n",
      "Finished searching\n",
      "Thinking about report...\n",
      "Finished writing report\n",
      "Report Summary:\n",
      "In 2025, the landscape of AI agent frameworks has rapidly evolved with significant advancements such as Salesforce's Agentforce 360 for enterprise integration, OpenAI's lightweight Agents SDK for multi-agent workflows, and Google’s modular Agent Development Kit. Key trends include increased autonomy in decision-making, the rise of specialized agents for various industries, and the adoption of standards like the Model Context Protocol to improve interoperability.\n",
      "\n",
      "Full Report (Markdown):\n",
      "# Latest AI Agent Frameworks in 2025\n",
      "\n",
      "## Introduction\n",
      "The field of Artificial Intelligence (AI) has seen monumental growth and diversification, especially in the realm of AI agents. As we step into 2025, we are witnessing an array of innovative frameworks designed to facilitate the development, deployment, and scaling of AI agents across various industries. This report aims to summarize the notable AI agent frameworks that have emerged this year and highlight the key trends shaping the landscape.\n",
      "\n",
      "## Overview of Emerging Frameworks\n",
      "In 2025, several frameworks have gained prominence, each tailored to address specific challenges in AI agent development:\n",
      "\n",
      "### 1. Agentforce 360\n",
      "- **Provider**: Salesforce  \n",
      "- **Features**: This all-in-one platform allows for the seamless creation and management of enterprise AI agents. It includes the Agentforce Builder for natural language agent creation and the Agent Script for behavior definition, with integration into popular communication tools like Slack for direct interactions.  \n",
      "- **More Info**: [Source](https://www.itpro.com/technology/artificial-intelligence/salesforce-just-launched-a-new-catch-all-platform-to-build-enterprise-ai-agents?utm_source=openai)\n",
      "\n",
      "### 2. OpenAI Agents SDK  \n",
      "- **Release Date**: March 2025  \n",
      "- **Focus**: A lightweight Python framework aimed at enabling multi-agent workflows with integrated tracing and guardrails. It offers compatibility with over 100 Large Language Models (LLMs), making it a versatile choice for advanced AI applications.  \n",
      "- **More Info**: [Source](https://www.jlcnews.com/post/the-best-ai-agents-in-2025-tools-frameworks-and-platforms-compared?utm_source=openai)\n",
      "\n",
      "### 3. Google Agent Development Kit (ADK)  \n",
      "- **Announcement**: April 2025  \n",
      "- **Highlights**: A modular framework that integrates seamlessly with Google's ecosystem, allowing developers to compose hierarchical agents with minimal coding involved.  \n",
      "- **More Info**: [Source](https://www.jlcnews.com/post/the-best-ai-agents-in-2025-tools-frameworks-and-platforms-compared?utm_source=openai)\n",
      "\n",
      "### 4. Agent Lightning  \n",
      "- **Capabilities**: This framework promotes reinforcement learning training of LLMs for any AI agent, facilitating seamless upgrades and adaptations to existing agent systems.  \n",
      "- **More Info**: [Source](https://arxiv.org/abs/2508.03680?utm_source=openai)\n",
      "\n",
      "### 5. GoalfyMax  \n",
      "- **Innovation**: A protocol-driven multi-agent system that establishes a communication layer between agents, alongside an Experience Pack architecture geared towards structured knowledge retention.  \n",
      "- **More Info**: [Source](https://arxiv.org/abs/2507.09497?utm_source=openai)\n",
      "\n",
      "### 6. Cognitive Kernel-Pro  \n",
      "- **Structure**: An open-source multi-module agent framework aimed at democratizing the development of advanced AI agents, boasting state-of-the-art performance among open-source solutions.  \n",
      "- **More Info**: [Source](https://arxiv.org/abs/2508.00414?utm_source=openai)\n",
      "\n",
      "### 7. AgentScope 1.0  \n",
      "- **Target Audience**: Developer-centric framework focusing on agentic application creation, providing unified interfaces and modularity for agent-environment interactions.  \n",
      "- **More Info**: [Source](https://arxiv.org/abs/2508.16279?utm_source=openai)\n",
      "\n",
      "### 8. Manus  \n",
      "- **Vision**: Developed by Butterfly Effect Technology, Manus stands out as an autonomous AI agent capable of independent reasoning, dynamic planning, and executing complex tasks autonomously.  \n",
      "- **More Info**: [Source](https://en.wikipedia.org/wiki/Manus_%28AI_agent%29?utm_source=openai)\n",
      "\n",
      "### 9. Kruti  \n",
      "- **Market Fit**: Developed by Ola Krutrim, this multilingual AI agent is optimized for performing real-world tasks by integrating with various online services specifically for the Indian market.  \n",
      "- **More Info**: [Source](https://en.wikipedia.org/wiki/Kruti?utm_source=openai)\n",
      "\n",
      "### 10. AutoGen  \n",
      "- **Functionality**: Microsoft’s open-source framework designed for multi-agent coordination, highlighting asynchronous messaging capabilities along with powerful debugging support via OpenTelemetry.  \n",
      "- **More Info**: [Source](https://differ.blog/p/top-ai-agent-frameworks-to-explore-in-2025-099cbd?utm_source=openai)\n",
      "\n",
      "### 11. CrewAI  \n",
      "- **Objective**: A lightweight, Python-centric framework focusing on role-based agent development, fostering external API integration with streamlined control over tasks and workflows.  \n",
      "- **More Info**: [Source](https://differ.blog/p/top-ai-agent-frameworks-to-explore-in-2025-099cbd?utm_source=openai)\n",
      "\n",
      "### 12. LangChain  \n",
      "- **Features**: This framework specializes in LLM-powered applications, tackling context retention and multi-step execution with tools for API integrations and semantic search.  \n",
      "- **More Info**: [Source](https://www.linkedin.com/pulse/top-5-frameworks-building-ai-agents-2025-sahil-malhotra-wmisc?utm_source=openai)\n",
      "\n",
      "### 13. SuperAGI  \n",
      "- **Scope**: An open-source framework that encompasses the entire agent lifecycle, particularly excelling in long-term task planning and cloud-native deployments.  \n",
      "- **More Info**: [Source](https://drukarnia.com.ua/articles/comparing-ai-agent-frameworks-performance-scalability-i-real-world-use-cases-in-2025-e8FVo?utm_source=openai)\n",
      "\n",
      "### 14. Haystack Agents  \n",
      "- **Foundation**: Originally focused on NLP, Haystack's evolution to include agent support facilitates deep retrieval and LLM orchestration essential for research-intensive applications.  \n",
      "- **More Info**: [Source](https://drukarnia.com.ua/articles/comparing-ai-agent-frameworks-performance-scalability-i-real-world-use-cases-in-2025-e8FVo?utm_source=openai)\n",
      "\n",
      "### 15. Amazon Bedrock AgentCore  \n",
      "- **Function**: AWS's platform that simplifies advanced AI agent development with modular services designed for scalability and serverless deployment.  \n",
      "- **More Info**: [Source](https://www.techradar.com/pro/aws-looks-to-super-charge-ai-agents-with-amazon-bedrock-agentcore?utm_source=openai)\n",
      "\n",
      "## Key Trends in AI Agent Frameworks\n",
      "Several significant trends characterize the landscape of AI agent frameworks in 2025:\n",
      "\n",
      "### 1. **Enterprise Integration**  \n",
      "The demand for enterprise solutions is on the rise, with frameworks such as Salesforce’s Agentforce 360 leading the charge. The integration of AI agents into business processes promises streamlined operations, enhanced communication, and a transformative workflow paradigm.\n",
      "\n",
      "### 2. **Specialization and Collaboration**  \n",
      "There is an increasing shift towards specialized agents designed for particular industries, such as finance and healthcare. Additionally, multi-agent systems are gaining traction, enabling coordinated efforts to resolve complex challenges effectively.\n",
      "\n",
      "### 3. **Autonomy and Reasoning**  \n",
      "Modern AI agents are evolving towards higher levels of autonomy, capable of independent decision-making and advanced reasoning capabilities. This progression marks a significant departure from merely recognizing patterns to comprehending cause and effect.\n",
      "\n",
      "### 4. **Infrastructure and Standardization**  \n",
      "The importance of infrastructure is becoming pronounced, with standardization efforts like the Model Context Protocol (MCP) receiving attention. Adopted by leading organizations, MCP aims to enhance AI system interoperability and facilitate seamless integrations across various platforms.\n",
      "\n",
      "### 5. **Market Growth and Challenges**  \n",
      "The AI agent market is projected to experience tremendous growth, with estimates suggesting it could soar from $5.32 billion in 2025 to approximately $42.7 billion by 2030. However, the industry faces critical challenges, including potential oversaturation and the need for consolidation among frameworks.\n",
      "\n",
      "## Conclusion\n",
      "The AI agent framework landscape in 2025 reflects rapid technological evolution, characterized by robust frameworks that are increasingly focused on enterprise integration, autonomy, and interoperability. As the market continues to grow, ongoing developments are essential to navigate the challenges ahead, ensuring that AI agents provide meaningful, intelligent solutions to complex problems across various domains.\n",
      "\n",
      "## Follow-Up Questions\n",
      "- How do these AI agent frameworks specifically address industry needs?\n",
      "- What role does standardization play in the evolution of AI agents?\n",
      "- How can organizations leverage these frameworks for effective enterprise solutions?\n",
      "- What barriers might impede the growth and adoption of AI agents in business?\n",
      "- How does the integration of these frameworks impact AI ethics and accountability?\n",
      "Hooray!\n"
     ]
    }
   ],
   "execution_count": 12
  },
  {
   "metadata": {},
   "cell_type": "code",
   "outputs": [],
   "execution_count": null,
   "source": "",
   "id": "df740959de1429e"
  }
 ],
 "metadata": {
  "kernelspec": {
   "display_name": "Python 3",
   "language": "python",
   "name": "python3"
  },
  "language_info": {
   "codemirror_mode": {
    "name": "ipython",
    "version": 2
   },
   "file_extension": ".py",
   "mimetype": "text/x-python",
   "name": "python",
   "nbconvert_exporter": "python",
   "pygments_lexer": "ipython2",
   "version": "2.7.6"
  }
 },
 "nbformat": 4,
 "nbformat_minor": 5
}
