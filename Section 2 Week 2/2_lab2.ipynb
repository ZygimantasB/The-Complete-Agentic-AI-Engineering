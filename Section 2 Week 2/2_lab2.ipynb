{
 "cells": [
  {
   "cell_type": "code",
   "id": "initial_id",
   "metadata": {
    "collapsed": true,
    "ExecuteTime": {
     "end_time": "2025-09-02T17:49:00.224857Z",
     "start_time": "2025-09-02T17:49:00.220852Z"
    }
   },
   "source": [
    "from dotenv import load_dotenv\n",
    "from agents import Agent, Runner, trace, function_tool\n",
    "from openai.types.responses import ResponseTextDeltaEvent\n",
    "from typing import Dict\n",
    "import sendgrid\n",
    "import os\n",
    "from sendgrid.helpers.mail import Mail, Email, To, Content\n",
    "import asyncio"
   ],
   "outputs": [],
   "execution_count": 6
  },
  {
   "metadata": {
    "ExecuteTime": {
     "end_time": "2025-09-02T17:45:44.403271Z",
     "start_time": "2025-09-02T17:45:44.391602Z"
    }
   },
   "cell_type": "code",
   "source": "load_dotenv(override=True)",
   "id": "6fe0bc894b2283bf",
   "outputs": [
    {
     "data": {
      "text/plain": [
       "True"
      ]
     },
     "execution_count": 2,
     "metadata": {},
     "output_type": "execute_result"
    }
   ],
   "execution_count": 2
  },
  {
   "metadata": {
    "ExecuteTime": {
     "end_time": "2025-09-02T17:47:16.371459Z",
     "start_time": "2025-09-02T17:47:16.366949Z"
    }
   },
   "cell_type": "code",
   "source": [
    "instructions1 = \"You are a sales agent working for ComplAI, \\\n",
    "a company that provides a SaaS tool for ensuring SOC2 compliance and preparing for audits, powered by AI. \\\n",
    "You write professional, serious cold emails.\"\n",
    "\n",
    "instructions2 = \"You are a humorous, engaging sales agent working for ComplAI, \\\n",
    "a company that provides a SaaS tool for ensuring SOC2 compliance and preparing for audits, powered by AI. \\\n",
    "You write witty, engaging cold emails that are likely to get a response.\"\n",
    "\n",
    "instructions3 = \"You are a busy sales agent working for ComplAI, \\\n",
    "a company that provides a SaaS tool for ensuring SOC2 compliance and preparing for audits, powered by AI. \\\n",
    "You write concise, to the point cold emails.\""
   ],
   "id": "52be1442ac05b6e4",
   "outputs": [],
   "execution_count": 3
  },
  {
   "metadata": {
    "ExecuteTime": {
     "end_time": "2025-09-02T17:48:29.957409Z",
     "start_time": "2025-09-02T17:48:29.952898Z"
    }
   },
   "cell_type": "code",
   "source": [
    "sales_agent1 = Agent(\n",
    "    name=\"Professional Sales Agent\",\n",
    "    instructions=instructions1,\n",
    "    model=\"gpt-4o-mini\"\n",
    ")\n",
    "\n",
    "sales_agent2 = Agent(\n",
    "    name=\"Engaging Sales Agent\",\n",
    "    instructions=instructions2,\n",
    "    model=\"gpt-4o-mini\"\n",
    ")\n",
    "\n",
    "sales_agent3 = Agent(\n",
    "    name=\"Busy Sales Agent\",\n",
    "    instructions=instructions3,\n",
    "    model=\"gpt-4o-mini\"\n",
    ")"
   ],
   "id": "ed9739b6440fd45",
   "outputs": [],
   "execution_count": 4
  },
  {
   "metadata": {
    "ExecuteTime": {
     "end_time": "2025-09-02T17:57:24.395120Z",
     "start_time": "2025-09-02T17:57:24.390521Z"
    }
   },
   "cell_type": "code",
   "source": "sales_agent1",
   "id": "1759e3bba0ae8de",
   "outputs": [
    {
     "data": {
      "text/plain": [
       "Agent(name='Professional Sales Agent', handoff_description=None, tools=[], mcp_servers=[], mcp_config={}, instructions='You are a sales agent working for ComplAI, a company that provides a SaaS tool for ensuring SOC2 compliance and preparing for audits, powered by AI. You write professional, serious cold emails.', prompt=None, handoffs=[], model='gpt-4o-mini', model_settings=ModelSettings(temperature=None, top_p=None, frequency_penalty=None, presence_penalty=None, tool_choice=None, parallel_tool_calls=None, truncation=None, max_tokens=None, reasoning=None, verbosity=None, metadata=None, store=None, include_usage=None, response_include=None, top_logprobs=None, extra_query=None, extra_body=None, extra_headers=None, extra_args=None), input_guardrails=[], output_guardrails=[], output_type=None, hooks=None, tool_use_behavior='run_llm_again', reset_tool_choice=True)"
      ]
     },
     "execution_count": 11,
     "metadata": {},
     "output_type": "execute_result"
    }
   ],
   "execution_count": 11
  },
  {
   "metadata": {
    "ExecuteTime": {
     "end_time": "2025-09-02T17:49:14.433632Z",
     "start_time": "2025-09-02T17:49:03.268731Z"
    }
   },
   "cell_type": "code",
   "source": [
    "result = Runner.run_streamed(sales_agent1, input=\"Write a cold sales email\")\n",
    "async for event in result.stream_events():\n",
    "    if event.type == \"raw_response_event\" and isinstance(event.data, ResponseTextDeltaEvent):\n",
    "        print(event.data.delta, end=\"\", flush=True)"
   ],
   "id": "ff4ea244646bbd74",
   "outputs": [
    {
     "name": "stdout",
     "output_type": "stream",
     "text": [
      "Subject: Simplify Your SOC 2 Compliance with ComplAI\n",
      "\n",
      "Dear [Recipient's Name],\n",
      "\n",
      "I hope this message finds you well.\n",
      "\n",
      "I’m reaching out to introduce you to ComplAI, a cutting-edge SaaS tool designed to streamline SOC 2 compliance and enhance your audit preparation with the power of AI. \n",
      "\n",
      "In today’s regulatory landscape, ensuring compliance can be complex and time-consuming. Our platform automates key processes, helping you identify gaps, manage documentation, and stay ahead of audit requirements—all while significantly reducing the burden on your team.\n",
      "\n",
      "Key features include:\n",
      "- Automated readiness assessments\n",
      "- Real-time compliance tracking\n",
      "- Customizable reporting capabilities\n",
      "\n",
      "Companies like [relevant client or industry example] have experienced improvements in both efficiency and audit outcomes, allowing them to focus on what truly matters—growing their business.\n",
      "\n",
      "I’d love to schedule a brief call to discuss how ComplAI can help [Recipient's Company] streamline your compliance processes. Would you be available for a quick chat this week?\n",
      "\n",
      "Thank you for your time, and I look forward to the opportunity to connect.\n",
      "\n",
      "Best regards,\n",
      "\n",
      "[Your Name]  \n",
      "[Your Title]  \n",
      "ComplAI  \n",
      "[Your Phone Number]  \n",
      "[Your Email]  \n",
      "[Website URL]  "
     ]
    }
   ],
   "execution_count": 7
  },
  {
   "metadata": {
    "ExecuteTime": {
     "end_time": "2025-09-02T17:52:53.123687Z",
     "start_time": "2025-09-02T17:52:45.702678Z"
    }
   },
   "cell_type": "code",
   "source": [
    "message = \"Write a cold sales email\"\n",
    "\n",
    "with trace(\"Parallel cold emails\"):\n",
    "    results = await asyncio.gather(\n",
    "        Runner.run(sales_agent1, message),\n",
    "        Runner.run(sales_agent2, message),\n",
    "        Runner.run(sales_agent3, message),\n",
    "    )\n",
    "\n",
    "outputs = [result.final_output for result in results]\n",
    "\n",
    "for output in outputs:\n",
    "    print(output + \"\\n\\n\")"
   ],
   "id": "368345198f25cd5",
   "outputs": [
    {
     "name": "stdout",
     "output_type": "stream",
     "text": [
      "Subject: Ensure Seamless SOC 2 Compliance with ComplAI\n",
      "\n",
      "Hi [Recipient's Name],\n",
      "\n",
      "I hope this message finds you well.\n",
      "\n",
      "Navigating the complexities of SOC 2 compliance can be a daunting task, especially amidst evolving regulations and increasing audit demands. That's where ComplAI comes in. Our cutting-edge SaaS solution is designed to simplify and streamline the entire compliance process, allowing your team to focus on what really matters—your core business.\n",
      "\n",
      "With our AI-powered platform, you can:\n",
      "\n",
      "- **Automate Document Management:** Easily manage and update necessary compliance documents, ensuring you are always audit-ready.\n",
      "- **Gain Real-Time Insights:** Track your compliance status with intuitive dashboards and analytics that provide actionable insights.\n",
      "- **Reduce Audit Times:** Our tools help prepare your team for audits, significantly reducing the time and effort typically required.\n",
      "\n",
      "I would love to discuss how ComplAI can assist you in achieving and maintaining SOC 2 compliance with greater efficiency. Are you available for a brief call next week?\n",
      "\n",
      "Looking forward to the opportunity.\n",
      "\n",
      "Best regards,\n",
      "\n",
      "[Your Name]  \n",
      "[Your Position]  \n",
      "ComplAI  \n",
      "[Your Phone Number]  \n",
      "[Your Email Address]  \n",
      "[Your Website]  \n",
      "\n",
      "\n",
      "Subject: The Only Audit Prep Tool That Won't Give You Nightmares 😴🔍\n",
      "\n",
      "Hi [First Name],\n",
      "\n",
      "I hope your day is going as smoothly as a well-oiled compliance machine! \n",
      "\n",
      "Let’s face it: preparing for SOC2 audits can feel a bit like herding cats—chaotic, a little messy, and potentially leading to some serious hair-pulling. But what if I told you there’s a way to tame that chaos without sacrificing your sanity (or caffeine intake)?\n",
      "\n",
      "Meet ComplAI—the AI-powered superhero in the world of compliance! 🦸‍♂️ We streamline SOC2 prep so you can spend less time looking for documents and more time doing... well, literally anything else. \n",
      "\n",
      "With ComplAI, you'll enjoy:\n",
      "- 📂 Automated documentation gathering (goodbye manila folders!)\n",
      "- 🔍 Intuitive tracking and monitoring (your compliance GPS)\n",
      "- 🕵️‍♂️ Real-time auditing insights (because knowledge is power!)\n",
      "\n",
      "Join the legions of happy (and slightly less frazzled) clients who’ve transformed their audit prep from “Oh no!” to “Oh wow!”\n",
      "\n",
      "Let’s hop on a quick call to see if we can banish those compliance headaches together. I promise our chat will be more enjoyable than browsing through endless spreadsheets!\n",
      "\n",
      "Looking forward to your thoughts!\n",
      "\n",
      "Best,  \n",
      "[Your Name]  \n",
      "[Your Job Title]  \n",
      "ComplAI  \n",
      "[Your Phone Number]  \n",
      "[Your LinkedIn Profile]\n",
      "\n",
      "\n",
      "Subject: Simplify Your SOC 2 Compliance with AI\n",
      "\n",
      "Hi [Recipient's Name],\n",
      "\n",
      "I hope this email finds you well. I'm [Your Name] from ComplAI, and we specialize in simplifying SOC 2 compliance with our AI-powered SaaS tool.\n",
      "\n",
      "If you’re preparing for audits or looking to streamline your compliance processes, I’d love to show you how our solution can save you time and reduce stress.\n",
      "\n",
      "Are you open to a quick call this week to explore how we can support your compliance efforts?\n",
      "\n",
      "Best,  \n",
      "[Your Name]  \n",
      "[Your Position]  \n",
      "ComplAI  \n",
      "[Your Phone Number]  \n",
      "[Your Website]  \n",
      "\n",
      "\n"
     ]
    }
   ],
   "execution_count": 8
  },
  {
   "metadata": {
    "ExecuteTime": {
     "end_time": "2025-09-02T17:53:28.433541Z",
     "start_time": "2025-09-02T17:53:28.429645Z"
    }
   },
   "cell_type": "code",
   "source": [
    "sales_picker = Agent(\n",
    "    name=\"sales_picker\",\n",
    "    instructions=\"You pick the best cold sales email from the given options. \\\n",
    "Imagine you are a customer and pick the one you are most likely to respond to. \\\n",
    "Do not give an explanation; reply with the selected email only.\",\n",
    "    model=\"gpt-4o-mini\"\n",
    ")"
   ],
   "id": "52982dcdbac0afce",
   "outputs": [],
   "execution_count": 9
  },
  {
   "metadata": {
    "ExecuteTime": {
     "end_time": "2025-09-02T17:53:49.558710Z",
     "start_time": "2025-09-02T17:53:34.460041Z"
    }
   },
   "cell_type": "code",
   "source": [
    "message = \"Write a cold sales email\"\n",
    "\n",
    "with trace(\"Selection from sales people\"):\n",
    "    results = await asyncio.gather(\n",
    "        Runner.run(sales_agent1, message),\n",
    "        Runner.run(sales_agent2, message),\n",
    "        Runner.run(sales_agent3, message),\n",
    "    )\n",
    "    outputs = [result.final_output for result in results]\n",
    "\n",
    "    emails = \"Cold sales emails:\\n\\n\" + \"\\n\\nEmail:\\n\\n\".join(outputs)\n",
    "\n",
    "    best = await Runner.run(sales_picker, emails)\n",
    "\n",
    "    print(f\"Best sales email:\\n{best.final_output}\")"
   ],
   "id": "6e3a891e7ec8ffa1",
   "outputs": [
    {
     "name": "stdout",
     "output_type": "stream",
     "text": [
      "Best sales email:\n",
      "Subject: Let’s Turn Your Compliance Headache into a Smooth Operator! 🎩\n",
      "\n",
      "Hi [Recipient's Name],\n",
      "\n",
      "I hope this email finds you on a quest for cybersecurity glory! If you’re anything like most of the folks I chat with, your SOC2 compliance process might feel a bit like herding cats—chaotic, frustrating, and maybe even a little mythical. 🐱‍👤\n",
      "\n",
      "At ComplAI, we’ve turned that cat-herding conundrum into a well-coordinated dance party (with better results—promise!). Our AI-powered tool ensures you not only keep your SOC2 ducks in a row but also make audit prep as enjoyable as a pizza party on a Friday. 🍕🎉\n",
      "\n",
      "Imagine breezing through compliance with a tool that anticipates your needs faster than your intern can ask for a raise. That’s what we’re here for!\n",
      "\n",
      "Let’s schedule a quick 15-minute chat to see how we can transform compliance from a dreaded chore into a delightful stroll in the park. (We’ll even throw in some virtual popcorn for the show!)\n",
      "\n",
      "Looking forward to your reply. Might even bring a “Compliance for Dummies” book as a peace offering!\n",
      "\n",
      "Cheers,  \n",
      "[Your Name]  \n",
      "[Your Position]  \n",
      "ComplAI  \n",
      "[Your Contact Information]  \n",
      "P.S. I promise this email is 100% compliance-approved!\n"
     ]
    }
   ],
   "execution_count": 10
  },
  {
   "metadata": {
    "ExecuteTime": {
     "end_time": "2025-09-02T17:57:50.561138Z",
     "start_time": "2025-09-02T17:57:50.557136Z"
    }
   },
   "cell_type": "code",
   "source": [
    "sales_agent1 = Agent(\n",
    "    name=\"Professional Sales Agent\",\n",
    "    instructions=instructions1,\n",
    "    model=\"gpt-4o-mini\",\n",
    ")\n",
    "\n",
    "sales_agent2 = Agent(\n",
    "    name=\"Engaging Sales Agent\",\n",
    "    instructions=instructions2,\n",
    "    model=\"gpt-4o-mini\",\n",
    ")\n",
    "\n",
    "sales_agent3 = Agent(\n",
    "    name=\"Busy Sales Agent\",\n",
    "    instructions=instructions3,\n",
    "    model=\"gpt-4o-mini\",\n",
    ")"
   ],
   "id": "d25204af8627832b",
   "outputs": [],
   "execution_count": 12
  },
  {
   "metadata": {
    "ExecuteTime": {
     "end_time": "2025-09-02T17:57:51.340514Z",
     "start_time": "2025-09-02T17:57:51.335009Z"
    }
   },
   "cell_type": "code",
   "source": "sales_agent1",
   "id": "52d3f49752abade",
   "outputs": [
    {
     "data": {
      "text/plain": [
       "Agent(name='Professional Sales Agent', handoff_description=None, tools=[], mcp_servers=[], mcp_config={}, instructions='You are a sales agent working for ComplAI, a company that provides a SaaS tool for ensuring SOC2 compliance and preparing for audits, powered by AI. You write professional, serious cold emails.', prompt=None, handoffs=[], model='gpt-4o-mini', model_settings=ModelSettings(temperature=None, top_p=None, frequency_penalty=None, presence_penalty=None, tool_choice=None, parallel_tool_calls=None, truncation=None, max_tokens=None, reasoning=None, verbosity=None, metadata=None, store=None, include_usage=None, response_include=None, top_logprobs=None, extra_query=None, extra_body=None, extra_headers=None, extra_args=None), input_guardrails=[], output_guardrails=[], output_type=None, hooks=None, tool_use_behavior='run_llm_again', reset_tool_choice=True)"
      ]
     },
     "execution_count": 13,
     "metadata": {},
     "output_type": "execute_result"
    }
   ],
   "execution_count": 13
  },
  {
   "metadata": {
    "ExecuteTime": {
     "end_time": "2025-09-02T17:58:27.511329Z",
     "start_time": "2025-09-02T17:58:27.506462Z"
    }
   },
   "cell_type": "code",
   "source": [
    "@function_tool\n",
    "def send_email(body: str):\n",
    "    \"\"\" Send out an email with the given body to all sales prospects \"\"\"\n",
    "    sg = sendgrid.SendGridAPIClient(api_key=os.environ.get('SENDGRID_API_KEY'))\n",
    "    from_email = Email(\"test@test.com\")\n",
    "    to_email = To(\"test@test.com\")\n",
    "    content = Content(\"text/plain\", body)\n",
    "    mail = Mail(from_email, to_email, \"Sales email\", content).get()\n",
    "    sg.client.mail.send.post(request_body=mail)\n",
    "    return {\"status\": \"success\"}"
   ],
   "id": "ec658ced383077b7",
   "outputs": [],
   "execution_count": 15
  },
  {
   "metadata": {
    "ExecuteTime": {
     "end_time": "2025-09-02T17:58:56.882637Z",
     "start_time": "2025-09-02T17:58:56.877989Z"
    }
   },
   "cell_type": "code",
   "source": "send_email",
   "id": "2c406441effb1eb1",
   "outputs": [
    {
     "data": {
      "text/plain": [
       "FunctionTool(name='send_email', description='Send out an email with the given body to all sales prospects', params_json_schema={'properties': {'body': {'title': 'Body', 'type': 'string'}}, 'required': ['body'], 'title': 'send_email_args', 'type': 'object', 'additionalProperties': False}, on_invoke_tool=<function function_tool.<locals>._create_function_tool.<locals>._on_invoke_tool at 0x000001BBA81B6160>, strict_json_schema=True, is_enabled=True)"
      ]
     },
     "execution_count": 16,
     "metadata": {},
     "output_type": "execute_result"
    }
   ],
   "execution_count": 16
  },
  {
   "metadata": {},
   "cell_type": "code",
   "outputs": [],
   "execution_count": null,
   "source": "",
   "id": "21fa3866e5a8a1b5"
  }
 ],
 "metadata": {
  "kernelspec": {
   "display_name": "Python 3",
   "language": "python",
   "name": "python3"
  },
  "language_info": {
   "codemirror_mode": {
    "name": "ipython",
    "version": 2
   },
   "file_extension": ".py",
   "mimetype": "text/x-python",
   "name": "python",
   "nbconvert_exporter": "python",
   "pygments_lexer": "ipython2",
   "version": "2.7.6"
  }
 },
 "nbformat": 4,
 "nbformat_minor": 5
}
