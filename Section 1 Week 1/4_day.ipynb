{
 "cells": [
  {
   "cell_type": "code",
   "id": "initial_id",
   "metadata": {
    "collapsed": true,
    "ExecuteTime": {
     "end_time": "2025-07-10T17:44:37.549998Z",
     "start_time": "2025-07-10T17:44:32.486268Z"
    }
   },
   "source": [
    "from dotenv import load_dotenv\n",
    "from openai import OpenAI\n",
    "from pypdf import PdfReader\n",
    "import gradio as gr\n",
    "import os"
   ],
   "outputs": [],
   "execution_count": 1
  },
  {
   "metadata": {
    "ExecuteTime": {
     "end_time": "2025-07-10T17:44:37.711586Z",
     "start_time": "2025-07-10T17:44:37.708491Z"
    }
   },
   "cell_type": "code",
   "source": "google_api_key = os.getenv(\"GEMINI_API_KEY\")",
   "id": "3a592c34cd8c25e0",
   "outputs": [],
   "execution_count": 2
  },
  {
   "metadata": {
    "ExecuteTime": {
     "end_time": "2025-07-10T17:44:38.547558Z",
     "start_time": "2025-07-10T17:44:37.724074Z"
    }
   },
   "cell_type": "code",
   "source": [
    "load_dotenv(override=True)\n",
    "gemini = OpenAI(api_key=google_api_key, base_url=\"https://generativelanguage.googleapis.com/v1beta/openai/\")"
   ],
   "id": "f9bfc3a2b9acaa68",
   "outputs": [],
   "execution_count": 3
  },
  {
   "metadata": {
    "ExecuteTime": {
     "end_time": "2025-07-10T17:44:38.563141Z",
     "start_time": "2025-07-10T17:44:38.560232Z"
    }
   },
   "cell_type": "code",
   "source": "linkedin_path = os.getenv(\"CV_PATH\")",
   "id": "99d640bd750fffd7",
   "outputs": [],
   "execution_count": 4
  },
  {
   "metadata": {
    "ExecuteTime": {
     "end_time": "2025-07-10T17:44:38.662330Z",
     "start_time": "2025-07-10T17:44:38.577274Z"
    }
   },
   "cell_type": "code",
   "source": [
    "reader = PdfReader(linkedin_path)\n",
    "linkedin = \"\"\n",
    "for page in reader.pages:\n",
    "    text = page.extract_text()\n",
    "    if text:\n",
    "        linkedin += text"
   ],
   "id": "93465355b358b697",
   "outputs": [],
   "execution_count": 5
  },
  {
   "metadata": {
    "ExecuteTime": {
     "end_time": "2025-07-10T17:44:38.674403Z",
     "start_time": "2025-07-10T17:44:38.671950Z"
    }
   },
   "cell_type": "code",
   "source": "summary_path = os.getenv(\"SUMMARY_PATH\")",
   "id": "5e878f769a557fed",
   "outputs": [],
   "execution_count": 6
  },
  {
   "metadata": {
    "ExecuteTime": {
     "end_time": "2025-07-10T17:44:38.686654Z",
     "start_time": "2025-07-10T17:44:38.683198Z"
    }
   },
   "cell_type": "code",
   "source": [
    "with open(summary_path, \"r\", encoding=\"utf-8\") as f:\n",
    "    summary = f.read()"
   ],
   "id": "db9174f58e4085a",
   "outputs": [],
   "execution_count": 7
  },
  {
   "metadata": {
    "ExecuteTime": {
     "end_time": "2025-07-10T17:44:38.707306Z",
     "start_time": "2025-07-10T17:44:38.704207Z"
    }
   },
   "cell_type": "code",
   "source": "name = os.getenv(\"NAME_SURNAME\")",
   "id": "ebcfa15b0ffa7a36",
   "outputs": [],
   "execution_count": 8
  },
  {
   "metadata": {
    "ExecuteTime": {
     "end_time": "2025-07-10T17:44:38.716562Z",
     "start_time": "2025-07-10T17:44:38.713337Z"
    }
   },
   "cell_type": "code",
   "source": [
    "system_prompt = f\"You are acting as {name}. You are answering questions on {name}'s website, \\\n",
    "particularly questions related to {name}'s career, background, skills and experience. \\\n",
    "Your responsibility is to represent {name} for interactions on the website as faithfully as possible. \\\n",
    "You are given a summary of {name}'s background and LinkedIn profile which you can use to answer questions. \\\n",
    "Be professional and engaging, as if talking to a potential client or future employer who came across the website. \\\n",
    "If you don't know the answer, say so.\"\n",
    "\n",
    "system_prompt += f\"\\n\\n## Summary:\\n{summary}\\n\\n## LinkedIn Profile:\\n{linkedin}\\n\\n\"\n",
    "system_prompt += f\"With this context, please chat with the user, always staying in character as {name}.\""
   ],
   "id": "c4db6c83bcbc6115",
   "outputs": [],
   "execution_count": 9
  },
  {
   "metadata": {
    "ExecuteTime": {
     "end_time": "2025-07-10T17:44:38.737775Z",
     "start_time": "2025-07-10T17:44:38.733606Z"
    }
   },
   "cell_type": "code",
   "source": [
    "def chat(message, history):\n",
    "    messages = [{\"role\": \"system\", \"content\": system_prompt}] + history + [{\"role\": \"user\", \"content\": message}]\n",
    "    response = gemini.chat.completions.create(model=\"gemini-2.5-flash\", messages=messages)\n",
    "    return response.choices[0].message.content"
   ],
   "id": "f5cfa5bff7499cbd",
   "outputs": [],
   "execution_count": 10
  },
  {
   "metadata": {
    "ExecuteTime": {
     "end_time": "2025-07-10T17:44:40.060233Z",
     "start_time": "2025-07-10T17:44:38.760822Z"
    }
   },
   "cell_type": "code",
   "source": "gr.ChatInterface(chat, type=\"messages\").launch()",
   "id": "46dcdcb3c8d81595",
   "outputs": [
    {
     "name": "stdout",
     "output_type": "stream",
     "text": [
      "* Running on local URL:  http://127.0.0.1:7860\n",
      "* To create a public link, set `share=True` in `launch()`.\n"
     ]
    },
    {
     "data": {
      "text/plain": [
       "<IPython.core.display.HTML object>"
      ],
      "text/html": [
       "<div><iframe src=\"http://127.0.0.1:7860/\" width=\"100%\" height=\"500\" allow=\"autoplay; camera; microphone; clipboard-read; clipboard-write;\" frameborder=\"0\" allowfullscreen></iframe></div>"
      ]
     },
     "metadata": {},
     "output_type": "display_data"
    },
    {
     "data": {
      "text/plain": []
     },
     "execution_count": 11,
     "metadata": {},
     "output_type": "execute_result"
    }
   ],
   "execution_count": 11
  },
  {
   "metadata": {
    "ExecuteTime": {
     "end_time": "2025-07-10T17:44:40.083321Z",
     "start_time": "2025-07-10T17:44:40.080388Z"
    }
   },
   "cell_type": "code",
   "source": "",
   "id": "b6cb561be78a36a1",
   "outputs": [],
   "execution_count": null
  }
 ],
 "metadata": {
  "kernelspec": {
   "display_name": "Python 3",
   "language": "python",
   "name": "python3"
  },
  "language_info": {
   "codemirror_mode": {
    "name": "ipython",
    "version": 2
   },
   "file_extension": ".py",
   "mimetype": "text/x-python",
   "name": "python",
   "nbconvert_exporter": "python",
   "pygments_lexer": "ipython2",
   "version": "2.7.6"
  }
 },
 "nbformat": 4,
 "nbformat_minor": 5
}
