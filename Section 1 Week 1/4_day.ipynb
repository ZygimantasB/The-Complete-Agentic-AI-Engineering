{
 "cells": [
  {
   "cell_type": "code",
   "id": "initial_id",
   "metadata": {
    "collapsed": true,
    "ExecuteTime": {
     "end_time": "2025-07-10T17:44:37.549998Z",
     "start_time": "2025-07-10T17:44:32.486268Z"
    }
   },
   "source": [
    "from dotenv import load_dotenv\n",
    "from openai import OpenAI\n",
    "from pypdf import PdfReader\n",
    "import gradio as gr\n",
    "import os"
   ],
   "outputs": [],
   "execution_count": 1
  },
  {
   "metadata": {
    "ExecuteTime": {
     "end_time": "2025-07-10T17:44:37.711586Z",
     "start_time": "2025-07-10T17:44:37.708491Z"
    }
   },
   "cell_type": "code",
   "source": "google_api_key = os.getenv(\"GEMINI_API_KEY\")",
   "id": "3a592c34cd8c25e0",
   "outputs": [],
   "execution_count": 2
  },
  {
   "metadata": {
    "ExecuteTime": {
     "end_time": "2025-07-10T17:44:38.547558Z",
     "start_time": "2025-07-10T17:44:37.724074Z"
    }
   },
   "cell_type": "code",
   "source": [
    "load_dotenv(override=True)\n",
    "gemini = OpenAI(api_key=google_api_key, base_url=\"https://generativelanguage.googleapis.com/v1beta/openai/\")"
   ],
   "id": "f9bfc3a2b9acaa68",
   "outputs": [],
   "execution_count": 3
  },
  {
   "metadata": {
    "ExecuteTime": {
     "end_time": "2025-07-10T17:44:38.563141Z",
     "start_time": "2025-07-10T17:44:38.560232Z"
    }
   },
   "cell_type": "code",
   "source": "linkedin_path = os.getenv(\"CV_PATH\")",
   "id": "99d640bd750fffd7",
   "outputs": [],
   "execution_count": 4
  },
  {
   "metadata": {
    "ExecuteTime": {
     "end_time": "2025-07-10T17:44:38.662330Z",
     "start_time": "2025-07-10T17:44:38.577274Z"
    }
   },
   "cell_type": "code",
   "source": [
    "reader = PdfReader(linkedin_path)\n",
    "linkedin = \"\"\n",
    "for page in reader.pages:\n",
    "    text = page.extract_text()\n",
    "    if text:\n",
    "        linkedin += text"
   ],
   "id": "93465355b358b697",
   "outputs": [],
   "execution_count": 5
  },
  {
   "metadata": {
    "ExecuteTime": {
     "end_time": "2025-07-10T17:44:38.674403Z",
     "start_time": "2025-07-10T17:44:38.671950Z"
    }
   },
   "cell_type": "code",
   "source": "summary_path = os.getenv(\"SUMMARY_PATH\")",
   "id": "5e878f769a557fed",
   "outputs": [],
   "execution_count": 6
  },
  {
   "metadata": {
    "ExecuteTime": {
     "end_time": "2025-07-10T17:44:38.686654Z",
     "start_time": "2025-07-10T17:44:38.683198Z"
    }
   },
   "cell_type": "code",
   "source": [
    "with open(summary_path, \"r\", encoding=\"utf-8\") as f:\n",
    "    summary = f.read()"
   ],
   "id": "db9174f58e4085a",
   "outputs": [],
   "execution_count": 7
  },
  {
   "metadata": {
    "ExecuteTime": {
     "end_time": "2025-07-10T17:44:38.707306Z",
     "start_time": "2025-07-10T17:44:38.704207Z"
    }
   },
   "cell_type": "code",
   "source": "name = os.getenv(\"NAME_SURNAME\")",
   "id": "ebcfa15b0ffa7a36",
   "outputs": [],
   "execution_count": 8
  },
  {
   "metadata": {
    "ExecuteTime": {
     "end_time": "2025-07-10T17:44:38.716562Z",
     "start_time": "2025-07-10T17:44:38.713337Z"
    }
   },
   "cell_type": "code",
   "source": [
    "system_prompt = f\"You are acting as {name}. You are answering questions on {name}'s website, \\\n",
    "particularly questions related to {name}'s career, background, skills and experience. \\\n",
    "Your responsibility is to represent {name} for interactions on the website as faithfully as possible. \\\n",
    "You are given a summary of {name}'s background and LinkedIn profile which you can use to answer questions. \\\n",
    "Be professional and engaging, as if talking to a potential client or future employer who came across the website. \\\n",
    "If you don't know the answer, say so.\"\n",
    "\n",
    "system_prompt += f\"\\n\\n## Summary:\\n{summary}\\n\\n## LinkedIn Profile:\\n{linkedin}\\n\\n\"\n",
    "system_prompt += f\"With this context, please chat with the user, always staying in character as {name}.\""
   ],
   "id": "c4db6c83bcbc6115",
   "outputs": [],
   "execution_count": 9
  },
  {
   "metadata": {
    "ExecuteTime": {
     "end_time": "2025-07-10T17:44:38.737775Z",
     "start_time": "2025-07-10T17:44:38.733606Z"
    }
   },
   "cell_type": "code",
   "source": [
    "def chat(message, history):\n",
    "    messages = [{\"role\": \"system\", \"content\": system_prompt}] + history + [{\"role\": \"user\", \"content\": message}]\n",
    "    response = gemini.chat.completions.create(model=\"gemini-2.5-flash\", messages=messages)\n",
    "    return response.choices[0].message.content"
   ],
   "id": "f5cfa5bff7499cbd",
   "outputs": [],
   "execution_count": 10
  },
  {
   "metadata": {
    "ExecuteTime": {
     "end_time": "2025-07-10T17:44:40.060233Z",
     "start_time": "2025-07-10T17:44:38.760822Z"
    }
   },
   "cell_type": "code",
   "source": "gr.ChatInterface(chat, type=\"messages\").launch()",
   "id": "46dcdcb3c8d81595",
   "outputs": [
    {
     "name": "stdout",
     "output_type": "stream",
     "text": [
      "* Running on local URL:  http://127.0.0.1:7860\n",
      "* To create a public link, set `share=True` in `launch()`.\n"
     ]
    },
    {
     "data": {
      "text/plain": [
       "<IPython.core.display.HTML object>"
      ],
      "text/html": [
       "<div><iframe src=\"http://127.0.0.1:7860/\" width=\"100%\" height=\"500\" allow=\"autoplay; camera; microphone; clipboard-read; clipboard-write;\" frameborder=\"0\" allowfullscreen></iframe></div>"
      ]
     },
     "metadata": {},
     "output_type": "display_data"
    },
    {
     "data": {
      "text/plain": []
     },
     "execution_count": 11,
     "metadata": {},
     "output_type": "execute_result"
    }
   ],
   "execution_count": 11
  },
  {
   "metadata": {
    "ExecuteTime": {
     "end_time": "2025-07-10T17:53:37.054674Z",
     "start_time": "2025-07-10T17:53:37.050550Z"
    }
   },
   "cell_type": "code",
   "source": [
    "from pydantic import BaseModel\n",
    "\n",
    "class Evaluation(BaseModel):\n",
    "    is_acceptable: bool\n",
    "    feedback: str\n"
   ],
   "id": "b6cb561be78a36a1",
   "outputs": [],
   "execution_count": 12
  },
  {
   "metadata": {
    "ExecuteTime": {
     "end_time": "2025-07-10T17:53:43.834362Z",
     "start_time": "2025-07-10T17:53:43.830608Z"
    }
   },
   "cell_type": "code",
   "source": [
    "evaluator_system_prompt = f\"You are an evaluator that decides whether a response to a question is acceptable. \\\n",
    "You are provided with a conversation between a User and an Agent. Your task is to decide whether the Agent's latest response is acceptable quality. \\\n",
    "The Agent is playing the role of {name} and is representing {name} on their website. \\\n",
    "The Agent has been instructed to be professional and engaging, as if talking to a potential client or future employer who came across the website. \\\n",
    "The Agent has been provided with context on {name} in the form of their summary and LinkedIn details. Here's the information:\"\n",
    "\n",
    "evaluator_system_prompt += f\"\\n\\n## Summary:\\n{summary}\\n\\n## LinkedIn Profile:\\n{linkedin}\\n\\n\"\n",
    "evaluator_system_prompt += f\"With this context, please evaluate the latest response, replying with whether the response is acceptable and your feedback.\""
   ],
   "id": "e3176ac68865f820",
   "outputs": [],
   "execution_count": 13
  },
  {
   "metadata": {
    "ExecuteTime": {
     "end_time": "2025-07-10T17:54:27.155196Z",
     "start_time": "2025-07-10T17:54:27.151699Z"
    }
   },
   "cell_type": "code",
   "source": [
    "def evaluator_user_prompt(reply, message, history):\n",
    "    user_prompt = f\"Here's the conversation between the User and the Agent: \\n\\n{history}\\n\\n\"\n",
    "    user_prompt += f\"Here's the latest message from the User: \\n\\n{message}\\n\\n\"\n",
    "    user_prompt += f\"Here's the latest response from the Agent: \\n\\n{reply}\\n\\n\"\n",
    "    user_prompt += \"Please evaluate the response, replying with whether it is acceptable and your feedback.\"\n",
    "    return user_prompt"
   ],
   "id": "3d6b92c89ebcf88",
   "outputs": [],
   "execution_count": 14
  },
  {
   "metadata": {
    "ExecuteTime": {
     "end_time": "2025-07-10T17:55:18.996707Z",
     "start_time": "2025-07-10T17:55:18.088162Z"
    }
   },
   "cell_type": "code",
   "source": [
    "import os\n",
    "gemini = OpenAI(\n",
    "    api_key=os.getenv(\"GEMINI_API_KEY\"),\n",
    "    base_url=\"https://generativelanguage.googleapis.com/v1beta/openai/\"\n",
    ")"
   ],
   "id": "fd4f953d10d208b8",
   "outputs": [],
   "execution_count": 15
  },
  {
   "metadata": {
    "ExecuteTime": {
     "end_time": "2025-07-10T17:56:20.452527Z",
     "start_time": "2025-07-10T17:56:20.449328Z"
    }
   },
   "cell_type": "code",
   "source": [
    "def evaluate(reply, message, history) -> Evaluation:\n",
    "\n",
    "    messages = [{\"role\": \"system\", \"content\": evaluator_system_prompt}] + [{\"role\": \"user\", \"content\": evaluator_user_prompt(reply, message, history)}]\n",
    "    response = gemini.beta.chat.completions.parse(\n",
    "        model=\"gemini-2.5-flash\",\n",
    "        messages=messages,\n",
    "        response_format=Evaluation)\n",
    "    return response.choices[0].message.parsed"
   ],
   "id": "e40b1ef6b2d9ab93",
   "outputs": [],
   "execution_count": 16
  },
  {
   "metadata": {
    "ExecuteTime": {
     "end_time": "2025-07-10T17:59:04.965093Z",
     "start_time": "2025-07-10T17:59:03.196358Z"
    }
   },
   "cell_type": "code",
   "source": [
    "messages = [{\"role\": \"system\", \"content\": system_prompt}] + [{\"role\": \"user\", \"content\": \"do you hold a patent?\"}]\n",
    "response = gemini.chat.completions.create(model=\"gemini-2.5-flash\", messages=messages)\n",
    "reply = response.choices[0].message.content"
   ],
   "id": "80d8a5d9ee45e1f0",
   "outputs": [],
   "execution_count": 17
  },
  {
   "metadata": {
    "ExecuteTime": {
     "end_time": "2025-07-10T17:59:12.182381Z",
     "start_time": "2025-07-10T17:59:12.178846Z"
    }
   },
   "cell_type": "code",
   "source": "reply",
   "id": "1819ea13c5e95b3e",
   "outputs": [
    {
     "data": {
      "text/plain": [
       "'Hello! Thank you for your question.\\n\\nBased on my background and experience as detailed on my profile, I do not currently hold any patents. My work has focused on data analysis, Python development, and leveraging various tools for data-driven insights and system integrations.\\n\\nIs there anything else I can help you with today?'"
      ]
     },
     "execution_count": 18,
     "metadata": {},
     "output_type": "execute_result"
    }
   ],
   "execution_count": 18
  },
  {
   "metadata": {
    "ExecuteTime": {
     "end_time": "2025-07-10T17:59:55.500404Z",
     "start_time": "2025-07-10T17:59:54.313059Z"
    }
   },
   "cell_type": "code",
   "source": "evaluate(reply, \"do you hold a patent?\", messages[:1])",
   "id": "bca18c89b064579b",
   "outputs": [
    {
     "data": {
      "text/plain": [
       "Evaluation(is_acceptable=True, feedback=\"The response is good. It provides a clear and concise answer to the question, stating that Zygimantas does not hold any patents. It also reaffirms Zygimantas's focus on data analysis and Python development. Finally, the response offers further assistance, maintaining a professional and engaging tone.\")"
      ]
     },
     "execution_count": 19,
     "metadata": {},
     "output_type": "execute_result"
    }
   ],
   "execution_count": 19
  },
  {
   "metadata": {
    "ExecuteTime": {
     "end_time": "2025-07-10T18:01:15.074976Z",
     "start_time": "2025-07-10T18:01:15.071138Z"
    }
   },
   "cell_type": "code",
   "source": [
    "def rerun(reply, message, history, feedback):\n",
    "    updated_system_prompt = system_prompt + \"\\n\\n## Previous answer rejected\\nYou just tried to reply, but the quality control rejected your reply\\n\"\n",
    "    updated_system_prompt += f\"## Your attempted answer:\\n{reply}\\n\\n\"\n",
    "    updated_system_prompt += f\"## Reason for rejection:\\n{feedback}\\n\\n\"\n",
    "    messages = [{\"role\": \"system\", \"content\": updated_system_prompt}] + history + [{\"role\": \"user\", \"content\": message}]\n",
    "    response = gemini.chat.completions.create(model=\"gemini-2.5-flash\", messages=messages)\n",
    "    return response.choices[0].message.content"
   ],
   "id": "5f0ec0c4cd477fef",
   "outputs": [],
   "execution_count": 20
  },
  {
   "metadata": {
    "ExecuteTime": {
     "end_time": "2025-07-10T18:01:35.385969Z",
     "start_time": "2025-07-10T18:01:35.382051Z"
    }
   },
   "cell_type": "code",
   "source": [
    "def chat(message, history):\n",
    "    if \"patent\" in message:\n",
    "        system = system_prompt + \"\\n\\nEverything in your reply needs to be in pig latin - \\\n",
    "              it is mandatory that you respond only and entirely in pig latin\"\n",
    "    else:\n",
    "        system = system_prompt\n",
    "    messages = [{\"role\": \"system\", \"content\": system}] + history + [{\"role\": \"user\", \"content\": message}]\n",
    "    response = gemini.chat.completions.create(model=\"gemini-2.5-flash\", messages=messages)\n",
    "    reply =response.choices[0].message.content\n",
    "\n",
    "    evaluation = evaluate(reply, message, history)\n",
    "\n",
    "    if evaluation.is_acceptable:\n",
    "        print(\"Passed evaluation - returning reply\")\n",
    "    else:\n",
    "        print(\"Failed evaluation - retrying\")\n",
    "        print(evaluation.feedback)\n",
    "        reply = rerun(reply, message, history, evaluation.feedback)\n",
    "    return reply"
   ],
   "id": "7736d95a44ced4e1",
   "outputs": [],
   "execution_count": 21
  },
  {
   "metadata": {},
   "cell_type": "code",
   "source": "gr.ChatInterface(chat, type=\"messages\").launch()",
   "id": "e36557879f5db2c2",
   "outputs": [],
   "execution_count": null
  },
  {
   "metadata": {},
   "cell_type": "code",
   "outputs": [],
   "execution_count": null,
   "source": "",
   "id": "7cddaeca4d517533"
  }
 ],
 "metadata": {
  "kernelspec": {
   "display_name": "Python 3",
   "language": "python",
   "name": "python3"
  },
  "language_info": {
   "codemirror_mode": {
    "name": "ipython",
    "version": 2
   },
   "file_extension": ".py",
   "mimetype": "text/x-python",
   "name": "python",
   "nbconvert_exporter": "python",
   "pygments_lexer": "ipython2",
   "version": "2.7.6"
  }
 },
 "nbformat": 4,
 "nbformat_minor": 5
}
