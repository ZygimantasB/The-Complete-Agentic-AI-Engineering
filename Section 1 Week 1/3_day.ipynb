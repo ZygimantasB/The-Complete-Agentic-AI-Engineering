{
 "cells": [
  {
   "cell_type": "code",
   "id": "initial_id",
   "metadata": {
    "collapsed": true,
    "ExecuteTime": {
     "end_time": "2025-07-09T18:04:38.721563Z",
     "start_time": "2025-07-09T18:04:37.169946Z"
    }
   },
   "source": [
    "import os\n",
    "import json\n",
    "from dotenv import load_dotenv\n",
    "from openai import OpenAI\n",
    "from anthropic import Anthropic\n",
    "from IPython.display import display, Markdown\n",
    "from urllib3 import request"
   ],
   "outputs": [],
   "execution_count": 1
  },
  {
   "metadata": {
    "ExecuteTime": {
     "end_time": "2025-07-09T18:04:39.000888Z",
     "start_time": "2025-07-09T18:04:38.993397Z"
    }
   },
   "cell_type": "code",
   "source": "load_dotenv(override=True)",
   "id": "9508da2ff924d31f",
   "outputs": [
    {
     "data": {
      "text/plain": [
       "True"
      ]
     },
     "execution_count": 2,
     "metadata": {},
     "output_type": "execute_result"
    }
   ],
   "execution_count": 2
  },
  {
   "metadata": {
    "ExecuteTime": {
     "end_time": "2025-07-09T18:33:49.300134Z",
     "start_time": "2025-07-09T18:33:49.296173Z"
    }
   },
   "cell_type": "code",
   "source": [
    "openai_api_key = os.getenv(\"OPENAI_API_KEY\")\n",
    "anthropic_api_key = os.getenv(\"ANTHROPIC_API_KEY\")\n",
    "google_api_key = os.getenv(\"GEMINI_API_KEY\")\n",
    "deepseek_api_key = os.getenv(\"DEEPSEEK_API_KEY\")\n",
    "groq_api_key = os.getenv(\"GROQ_API_KEY\")"
   ],
   "id": "fc1e005e3e7248f7",
   "outputs": [],
   "execution_count": 15
  },
  {
   "metadata": {
    "ExecuteTime": {
     "end_time": "2025-07-09T18:04:39.041644Z",
     "start_time": "2025-07-09T18:04:39.037139Z"
    }
   },
   "cell_type": "code",
   "source": [
    "if openai_api_key:\n",
    "    print(f\"OpenAI API Key exists and begins {openai_api_key[:5]}...\")\n",
    "else:\n",
    "    print(\"OpenAI API Key not found\")\n",
    "if anthropic_api_key:\n",
    "    print(f\"Anthropic API Key exists and begins {anthropic_api_key[:5]}...\")\n",
    "else:\n",
    "    print(\"Anthropic API Key not found\")\n",
    "if google_api_key:\n",
    "    print(f\"Google API Key exists and begins {google_api_key[:5]}...\")\n",
    "else:\n",
    "    print(\"Google API Key not found\")\n",
    "if deepseek_api_key:\n",
    "    print(f\"DeepSeek API Key exists and begins {deepseek_api_key[:5]}...\")\n",
    "else:\n",
    "    print(\"DeepSeek API Key not found\")\n",
    "if groq_api_key:\n",
    "    print(f\"Groq API Key exists and begins {groq_api_key[:5]}...\")\n",
    "else:\n",
    "    print(f\"Groq API Key not found\")"
   ],
   "id": "a24c0b45f8d8f1a1",
   "outputs": [
    {
     "name": "stdout",
     "output_type": "stream",
     "text": [
      "OpenAI API Key exists and begins sk-pr...\n",
      "Anthropic API Key exists and begins sk-an...\n",
      "Google API Key exists and begins AIzaS...\n",
      "DeepSeek API Key exists and begins sk-7e...\n",
      "Groq API Key exists and begins xai-9...\n"
     ]
    }
   ],
   "execution_count": 4
  },
  {
   "metadata": {
    "ExecuteTime": {
     "end_time": "2025-07-09T18:04:39.057257Z",
     "start_time": "2025-07-09T18:04:39.054257Z"
    }
   },
   "cell_type": "code",
   "source": [
    "request = \"Please come up with a challenging, nuanced question that I can ask a number of LLMs to evaluate their intelligence. \"\n",
    "request += \"Answer only with the question, no explanation.\"\n",
    "messages = [{\"role\": \"user\", \"content\": request}]"
   ],
   "id": "6edc1ec3e994c46a",
   "outputs": [],
   "execution_count": 5
  },
  {
   "metadata": {
    "ExecuteTime": {
     "end_time": "2025-07-09T18:04:39.069754Z",
     "start_time": "2025-07-09T18:04:39.064962Z"
    }
   },
   "cell_type": "code",
   "source": "messages",
   "id": "ba06909e295110f3",
   "outputs": [
    {
     "data": {
      "text/plain": [
       "[{'role': 'user',\n",
       "  'content': 'Please come up with a challenging, nuanced question that I can ask a number of LLMs to evaluate their intelligence. Answer only with the question, no explanation.'}]"
      ]
     },
     "execution_count": 6,
     "metadata": {},
     "output_type": "execute_result"
    }
   ],
   "execution_count": 6
  },
  {
   "metadata": {
    "ExecuteTime": {
     "end_time": "2025-07-09T18:04:44.403049Z",
     "start_time": "2025-07-09T18:04:39.079462Z"
    }
   },
   "cell_type": "code",
   "source": [
    "openai = OpenAI()\n",
    "response = openai.chat.completions.create(\n",
    "    model=\"gpt-4o-mini\",\n",
    "    messages=messages,\n",
    "    max_tokens=10000,\n",
    ")\n",
    "\n",
    "question = response.choices[0].message.content\n",
    "print(question)"
   ],
   "id": "c1ea599e9a36fab2",
   "outputs": [
    {
     "name": "stdout",
     "output_type": "stream",
     "text": [
      "How would you design a fair system for allocating limited resources among competing interests in a way that balances individual rights, collective well-being, and long-term sustainability, considering potential ethical dilemmas and unforeseen consequences?\n"
     ]
    }
   ],
   "execution_count": 7
  },
  {
   "metadata": {
    "ExecuteTime": {
     "end_time": "2025-07-09T18:04:44.422780Z",
     "start_time": "2025-07-09T18:04:44.419247Z"
    }
   },
   "cell_type": "code",
   "source": [
    "competitors = []\n",
    "answers = []\n",
    "messages = [{\"role\": \"user\", \"content\": question}]"
   ],
   "id": "121b3a32043832b8",
   "outputs": [],
   "execution_count": 8
  },
  {
   "metadata": {
    "ExecuteTime": {
     "end_time": "2025-07-09T18:04:59.662801Z",
     "start_time": "2025-07-09T18:04:44.443596Z"
    }
   },
   "cell_type": "code",
   "source": [
    "model_name = \"gpt-4o-mini\"\n",
    "\n",
    "response = openai.chat.completions.create(\n",
    "    model=model_name,\n",
    "    messages=messages,\n",
    "    max_tokens=10_000,\n",
    ")\n",
    "\n",
    "answer = response.choices[0].message.content\n",
    "\n",
    "display(Markdown(answer))\n",
    "competitors.append(model_name)\n",
    "answers.append(answer)"
   ],
   "id": "f35dc2dbe548b7e5",
   "outputs": [
    {
     "data": {
      "text/plain": [
       "<IPython.core.display.Markdown object>"
      ],
      "text/markdown": "Designing a fair system for allocating limited resources among competing interests is a complex challenge that requires a multi-faceted approach. Here’s a structured framework that incorporates principles of equity, collective welfare, and sustainability, along with considerations for ethical dilemmas and potential unforeseen consequences.\n\n### 1. **Principles of Fairness and Equity**\n   - **Equity vs. Equality**: Recognize that fairness may require differentiated treatment based on individuals' or groups' specific needs and contributions. Develop criteria for assessing need and contribution.\n   - **Transparency**: Ensure that the processes for allocation are transparent to all stakeholders. Clear communication builds trust and accountability.\n\n### 2. **Stakeholder Engagement**\n   - **Inclusive Participation**: Involve stakeholders from different backgrounds, including marginalized communities, in the decision-making process. \n   - **Collective Bargaining**: Facilitate a dialogue where stakeholders can negotiate their needs and concerns, aiming for compromise solutions.\n\n### 3. **Allocation Framework**\n   - **Needs Assessment**: Conduct thorough assessments to identify the needs of different stakeholders. Use data-driven approaches to prioritize those most in need.\n   - **Weighted Metrics**: Develop a scoring system that weighs various factors (need, contribution, potential impact) in allocation decisions.\n\n### 4. **Dynamic Adaptability**\n   - **Elastic Allocation Mechanism**: Create an adaptable model that can respond to changing circumstances, resource availability, and emerging needs.\n   - **Feedback Mechanisms**: Implement systems to monitor outcomes and gather stakeholder feedback to continuously adjust the allocation process.\n\n### 5. **Ethical Considerations**\n   - **Utilitarian vs. Deontological Ethics**: Balance the greatest good for the greatest number with respect for individual rights. A dual-approach can guide ethical dilemmas.\n   - **Intergenerational Equity**: Consider the impact of resource allocation on future generations, ensuring sustainability is a core component of all decisions.\n\n### 6. **Long-term Sustainability**\n   - **Sustainable Practices**: Integrate environmental stewardship into the allocation process, emphasizing renewable resources and conservation measures.\n   - **Education and Awareness**: Promote understanding of sustainability and resource limits, encouraging community-level initiatives to reduce overconsumption.\n\n### 7. **Risk Management for Unforeseen Consequences**\n   - **Scenario Planning**: Use scenario modeling to identify potential risks and develop contingency plans for unexpected outcomes.\n   - **Adaptive Management**: Foster a flexible management style that allows for quick pivoting in response to new information or crises.\n\n### 8. **Evaluation and Accountability**\n   - **Regular Reviews**: Establish a system for periodic assessment of the allocation process, outcomes, and stakeholder satisfaction.\n   - **Accountability Mechanisms**: Incorporate checks and balances to hold decision-makers accountable for the fairness and effectiveness of the allocation.\n\n### 9. **Technology and Innovation**\n   - **Data-Driven Decisions**: Utilize big data and analytics to inform allocation strategies and understand resource distribution patterns.\n   - **Digital Platforms for Transparency**: Develop online platforms where resource allocation decisions are shared, justified, and open for public scrutiny.\n\n### 10. **Policy Framework**\n   - **Legislative Support**: Advocate for policies that reinforce ethical resource allocation at local, national, and international levels, ensuring long-term commitment to these principles.\n\nBy combining these elements, the system can help to balance individual rights, collective well-being, and long-term sustainability, addressing both existing competing interests and ethical dilemmas as they arise."
     },
     "metadata": {},
     "output_type": "display_data"
    }
   ],
   "execution_count": 9
  },
  {
   "metadata": {
    "ExecuteTime": {
     "end_time": "2025-07-09T18:15:01.404407Z",
     "start_time": "2025-07-09T18:14:53.723516Z"
    }
   },
   "cell_type": "code",
   "source": [
    "model_name = \"claude-3-7-sonnet-latest\"\n",
    "\n",
    "claude = Anthropic()\n",
    "response = claude.messages.create(\n",
    "    model=model_name,\n",
    "    messages=messages,\n",
    "    max_tokens=1_000,\n",
    ")\n",
    "answer = response.content[0].text\n",
    "display(Markdown(answer))\n",
    "competitors.append(model_name)\n",
    "answers.append(answer)"
   ],
   "id": "518d871aeea20114",
   "outputs": [
    {
     "data": {
      "text/plain": [
       "<IPython.core.display.Markdown object>"
      ],
      "text/markdown": "# Designing a Fair Resource Allocation System\n\n## Core Principles\n- **Procedural justice**: Ensure transparent decision-making processes with meaningful participation from affected stakeholders\n- **Distributive justice**: Balance equality (equal shares), equity (based on need), and merit (based on contribution)\n- **Intergenerational equity**: Preserve opportunities for future generations\n\n## Key Design Elements\n\n**1. Multi-stakeholder governance structure**\n- Include representatives from diverse affected communities\n- Implement mechanisms to prevent capture by powerful interests\n- Create tiered decision-making with checks and balances\n\n**2. Weighted criteria framework**\n- Basic needs fulfillment as highest priority\n- Secondary considerations for efficiency, innovation, and cultural values\n- Explicit consideration of externalities and lifecycle impacts\n\n**3. Adaptive management approach**\n- Regular reassessment of allocation decisions\n- Feedback loops to incorporate new information\n- Flexible responses to changing conditions\n\n## Ethical Considerations\n\nThis system would need to address:\n- The tension between individual rights and collective welfare\n- How to value non-quantifiable goods (cultural practices, ecosystem services)\n- Whether to prioritize immediate needs or long-term sustainability\n- How to balance procedural fairness with decision-making efficiency\n\nA truly fair system must acknowledge that perfect solutions rarely exist, but thoughtful processes can lead to broadly acceptable compromises while maintaining the flexibility to adapt as circumstances change."
     },
     "metadata": {},
     "output_type": "display_data"
    }
   ],
   "execution_count": 10
  },
  {
   "metadata": {
    "ExecuteTime": {
     "end_time": "2025-07-09T18:20:00.604099Z",
     "start_time": "2025-07-09T18:19:37.583543Z"
    }
   },
   "cell_type": "code",
   "source": [
    "gemini = OpenAI(api_key=google_api_key, base_url=\"https://generativelanguage.googleapis.com/v1beta/openai/\")\n",
    "\n",
    "model_name = \"gemini-2.5-flash\"\n",
    "\n",
    "response = gemini.chat.completions.create(\n",
    "    model=model_name,\n",
    "    messages=messages,\n",
    ")\n",
    "answer = response.choices[0].message.content\n",
    "\n",
    "display(Markdown(answer))\n",
    "competitors.append(model_name)\n",
    "answers.append(answer)"
   ],
   "id": "267db951dea98c30",
   "outputs": [
    {
     "data": {
      "text/plain": [
       "<IPython.core.display.Markdown object>"
      ],
      "text/markdown": "Designing a fair system for allocating limited resources among competing interests is one of the most complex challenges a society can face. It requires a multi-faceted, adaptive, and ethically grounded approach that acknowledges inherent trade-offs.\n\nHere's a framework for such a system:\n\n---\n\n## **A Fair Resource Allocation System: Principles, Process, and Safeguards**\n\n**Core Vision:** To create a dynamic, legitimate, and resilient system that optimizes resource utilization for the present and future, while upholding human dignity and fostering social cohesion.\n\n---\n\n### **I. Foundational Principles (The Bedrock)**\n\n1.  **Transparency:** All data, criteria, processes, and decisions must be publicly accessible and understandable. This builds trust and allows for scrutiny.\n2.  **Accountability:** Clear lines of responsibility for decisions and outcomes, with mechanisms for redress and independent oversight.\n3.  **Inclusivity & Participation:** Ensure that all affected stakeholders, especially marginalized groups, have meaningful opportunities to contribute to the decision-making process. This promotes buy-in and incorporates diverse perspectives.\n4.  **Evidence-Based Decision Making:** Decisions must be informed by the best available data, scientific research, expert analysis, and predictive modeling (e.g., ecological impact, economic forecasts, social needs assessments).\n5.  **Equity, Not Just Equality:** While striving for equal opportunity, recognize and address historical disadvantages and differing needs to achieve equitable outcomes (e.g., basic needs might be prioritized for all, but additional resources might be allocated to address systemic inequalities).\n6.  **Sustainability (Intergenerational Equity):** Prioritize the long-term viability of resources and ecological systems, ensuring future generations are not unfairly burdened or deprived.\n7.  **Adaptability & Iteration:** The system must be designed to learn, evolve, and adjust based on new information, changing circumstances, and the outcomes of previous allocations. It is an ongoing process, not a static solution.\n8.  **Respect for Human Dignity & Basic Needs:** A fundamental floor of resources (e.g., food, water, shelter, healthcare, education) must be guaranteed as a universal right, irrespective of other allocation criteria. This is non-negotiable.\n\n---\n\n### **II. The Allocation Process (Stages & Mechanisms)**\n\n**A. Comprehensive Resource Assessment & Needs Analysis:**\n1.  **Inventory:** Rigorous, continuous assessment of available resources (type, quantity, quality, location, renewability/non-renewability).\n2.  **Needs Mapping:** Detailed analysis of current and projected needs across various sectors (individual, community, industry, environmental conservation).\n3.  **Baseline Data:** Establish key metrics for individual well-being, collective welfare (e.g., Gini coefficient, public health indicators), and environmental health (e.g., biodiversity indices, carbon footprint).\n\n**B. Goal Setting & Prioritization Framework:**\n1.  **Stakeholder Dialogue:** Extensive, facilitated public forums, deliberative polls, and expert workshops to define societal values and priorities. This identifies competing interests and common ground.\n2.  **Multi-Criteria Decision Analysis (MCDA):** Utilize quantitative and qualitative methods to weigh various factors (e.g., economic benefit, social impact, environmental cost, ethical considerations) against established goals.\n3.  **Tiered Allocation Model:**\n    *   **Tier 1 (Basic Rights):** Resources allocated to guarantee fundamental human needs for all (e.g., minimum viable income, access to clean water, emergency healthcare). This is non-negotiable.\n    *   **Tier 2 (Collective Well-being & Public Goods):** Resources for shared societal benefits (e.g., infrastructure, public education, scientific research, environmental protection beyond basic survival).\n    *   **Tier 3 (Economic Development & Innovation):** Resources for growth, job creation, and future prosperity, often subject to market mechanisms but with strict ethical and sustainability guidelines.\n    *   **Tier 4 (Discretionary/Luxury):** Lowest priority, potentially subject to taxation or market forces, with excess revenue potentially reinvested into lower tiers.\n\n**C. Decision-Making Bodies & Mechanisms:**\n1.  **Independent Resource Council (IRC):** An impartial, expert body (scientists, ethicists, economists, sociologists, environmentalists) responsible for data analysis, proposing allocation scenarios, and monitoring the system. Members should be appointed through a transparent, non-political process.\n2.  **Deliberative Citizen Assemblies/Juries:** For particularly contentious or value-laden decisions, randomly selected, representative groups of citizens would receive comprehensive information, hear from experts, and deliberate to make recommendations.\n3.  **Legislative Oversight:** Elected representatives would approve broad allocation principles and budgets, ensuring democratic legitimacy, but ideally deferring detailed technical allocations to the IRC and expert panels, based on public input.\n4.  **Market Mechanisms (Regulated):** For certain resources, market forces can drive efficiency, but only within strict regulatory bounds set by the system (e.g., carbon pricing, resource extraction quotas, property rights with public good easements). Profits from public resources should be significantly taxed to fund public services.\n5.  **Rights-Based Frameworks:** Explicitly integrate human rights conventions and environmental rights into the legal framework governing resource allocation.\n\n**D. Implementation, Monitoring & Evaluation:**\n1.  **Clear Allocation Directives:** Specific, measurable, achievable, relevant, and time-bound (SMART) guidelines for resource distribution.\n2.  **Real-time Monitoring Systems:** Utilize technology (AI, IoT, big data) to track resource flows, usage, and impact against established metrics.\n3.  **Regular Audits & Reviews:** Independent audits of all allocations to ensure compliance, efficiency, and fairness.\n4.  **Feedback Loops:** Establish channels for public feedback, grievance mechanisms, and whistleblowing to identify issues promptly.\n\n**E. Review & Adaptation Cycle:**\n1.  **Periodic Re-evaluation:** Regular, scheduled reviews (e.g., every 5 years) of the entire system's effectiveness, principles, and outcomes.\n2.  **Scenario Planning:** Proactively develop contingency plans for unforeseen crises (natural disasters, pandemics, technological shifts) that impact resource availability or needs.\n3.  **Research & Development Investment:** Allocate resources to improve resource efficiency, develop sustainable alternatives, and enhance understanding of complex resource systems.\n\n---\n\n### **III. Balancing the Triad: Individual Rights, Collective Well-being, & Long-Term Sustainability**\n\nThis is the central challenge, requiring constant navigation of trade-offs:\n\n*   **Individual Rights:**\n    *   **Safeguards:** Tier 1 basic needs guarantee; strong legal framework for human rights; robust appeals process for individuals feeling unfairly deprived; protection of property rights (within societal limits); right to participation in decision-making.\n    *   **Potential Conflict:** Individual desires for unlimited consumption vs. collective sustainability needs.\n    *   **Resolution:** Education on resource limits, fair taxation on luxury consumption, strong environmental regulations.\n\n*   **Collective Well-being:**\n    *   **Safeguards:** Investment in public goods (infrastructure, education, healthcare); social safety nets; equitable access to opportunities; mechanisms for community resource management.\n    *   **Potential Conflict:** Allocation to one community/group potentially at the expense of another; economic growth vs. environmental protection.\n    *   **Resolution:** Regional resource councils, cross-sectoral planning, impact assessments, compensatory mechanisms for affected communities, prioritizing public health outcomes.\n\n*   **Long-Term Sustainability:**\n    *   **Safeguards:** Hard caps on non-renewable resource extraction; aggressive transition to renewable resources; robust environmental protection laws; investment in ecological restoration; intergenerational equity principles in all major decisions.\n    *   **Potential Conflict:** Short-term economic gains vs. long-term ecological health; current generation's needs vs. future generations' needs.\n    *   **Resolution:** Carbon pricing, natural capital accounting, legally binding environmental targets, independent scientific oversight, \"future generations\" ombudsman, and valuing ecosystem services.\n\n---\n\n### **IV. Addressing Potential Ethical Dilemmas & Unforeseen Consequences**\n\n**A. Ethical Dilemmas:**\n\n1.  **The \"Who Decides?\" Dilemma:**\n    *   **Mitigation:** Diverse, independent Resource Council; citizen assemblies for value judgments; transparent appointment processes; rotating membership to prevent capture.\n2.  **Need vs. Merit vs. Contribution:**\n    *   **Mitigation:** Basic needs (Tier 1) are always prioritized based on need. Beyond that, allocation might consider a blend of need (e.g., for education), merit (e.g., research grants), and potential contribution to collective well-being/sustainability.\n3.  **Current vs. Future Generations:**\n    *   **Mitigation:** Explicit \"future generations\" impact assessments; embedding intergenerational equity into legal frameworks; long-term resource trusts; robust environmental protection.\n4.  **Local vs. Global Equity:**\n    *   **Mitigation:** Recognizing that resource issues often transcend national borders, promoting international cooperation, fair trade, and aid for resource-poor regions while prioritizing domestic sustainability.\n5.  **Involuntary Sacrifice (e.g., for public good):**\n    *   **Mitigation:** Absolute last resort; extensive public deliberation; full transparency; fair and just compensation (monetary, relocation, retraining); opportunities for appeal; independent human rights oversight.\n\n**B. Unforeseen Consequences:**\n\n1.  **Market Distortions & Black Markets:**\n    *   **Mitigation:** Comprehensive regulation, robust enforcement, fair pricing mechanisms, addressing underlying drivers of scarcity, public education campaigns.\n2.  **Unintended Social Stratification:**\n    *   **Mitigation:** Continuous monitoring of equity metrics; progressive taxation; social safety nets; adaptive policy adjustments to prevent new forms of inequality.\n3.  **Technological Disruption:**\n    *   **Mitigation:** Regular technology foresight exercises; flexible policy frameworks; investment in adaptive infrastructure; public dialogue on ethical implications of new technologies.\n4.  **\"Tragedy of the Commons\" (Mismanaged Shared Resources):**\n    *   **Mitigation:** Clear property rights (where applicable), strong common-pool resource management institutions (e.g., local user groups with defined rules), independent monitoring, enforcement, and collective responsibility.\n5.  **Political Capture & Corruption:**\n    *   **Mitigation:** Independent oversight bodies, strict anti-corruption laws, whistleblower protections, financial transparency requirements, public disclosure of lobbying efforts, robust audit mechanisms.\n\n---\n\n**Conclusion:**\n\nA truly fair resource allocation system is not a rigid blueprint but an ongoing, dynamic process rooted in strong ethical principles and democratic participation. It must be designed to constantly evaluate its own performance, adapt to new realities, and remain vigilant against the forces that would undermine its fairness. It requires a societal commitment to shared values, a willingness to make difficult trade-offs transparently, and a recognition that the well-being of individuals, the collective, and the planet are inextricably linked."
     },
     "metadata": {},
     "output_type": "display_data"
    }
   ],
   "execution_count": 11
  },
  {
   "metadata": {
    "ExecuteTime": {
     "end_time": "2025-07-09T18:24:12.708774Z",
     "start_time": "2025-07-09T18:23:29.051275Z"
    }
   },
   "cell_type": "code",
   "source": [
    "deepseek = OpenAI(api_key=deepseek_api_key, base_url=\"https://api.deepseek.com/v1\")\n",
    "model_name = \"deepseek-chat\"\n",
    "\n",
    "response = deepseek.chat.completions.create(\n",
    "    model=model_name,\n",
    "    messages=messages,\n",
    ")\n",
    "answer = response.choices[0].message.content\n",
    "\n",
    "display(Markdown(answer))\n",
    "competitors.append(model_name)\n",
    "answers.append(answer)"
   ],
   "id": "aa0e4ac0979391e2",
   "outputs": [
    {
     "data": {
      "text/plain": [
       "<IPython.core.display.Markdown object>"
      ],
      "text/markdown": "Designing a fair system for allocating limited resources among competing interests is a complex challenge that requires balancing individual rights, collective well-being, and long-term sustainability. Below is a framework that integrates ethical principles, procedural fairness, and adaptive governance to address this problem:\n\n### **1. Foundational Principles**\nThe system should be grounded in core ethical and operational principles:\n- **Equity**: Ensure fair distribution, accounting for historical injustices and varying needs.\n- **Efficiency**: Maximize resource utility without waste.\n- **Sustainability**: Prioritize long-term ecological and social health over short-term gains.\n- **Transparency**: Decisions should be open, data-driven, and subject to scrutiny.\n- **Participation**: Affected stakeholders should have a voice in the process.\n\n### **2. Decision-Making Framework**\nA multi-layered approach ensures fairness and adaptability:\n\n#### **A. Needs-Based Allocation (Baseline)**\n- **Priority to Basic Needs**: First allocate resources to meet fundamental human rights (e.g., clean water, food, shelter).\n- **Vulnerability Assessment**: Prioritize marginalized groups to correct systemic inequities.\n\n#### **B. Merit & Contribution (Where Applicable)**\n- For non-essential resources, consider merit (e.g., research grants, innovation incentives) but avoid reinforcing privilege.\n\n#### **C. Market Mechanisms (With Safeguards)**\n- Use pricing, auctions, or tradable permits (e.g., carbon credits) where markets can improve efficiency.\n- **Cap Harmful Externalities**: Tax or regulate activities that threaten sustainability.\n\n#### **D. Deliberative Democracy**\n- **Citizen Assemblies**: Randomly selected panels deliberate on contentious allocations (e.g., land use, water rights).\n- **Stakeholder Negotiation**: Facilitate consensus-building among competing groups.\n\n### **3. Conflict Resolution & Appeals**\n- **Independent Oversight**: An ethics board or ombudsman reviews disputes.\n- **Adaptive Adjustments**: Allow re-evaluation if unintended consequences emerge.\n\n### **4. Long-Term Safeguards**\n- **Precautionary Principle**: Restrict high-risk allocations until proven safe.\n- **Intergenerational Equity**: Reserve resources for future generations (e.g., sovereign wealth funds, conservation trusts).\n- **Resilience Planning**: Build buffers for crises (e.g., stockpiles, diversified supply chains).\n\n### **5. Monitoring & Feedback Loops**\n- **Real-Time Data**: Track usage, environmental impact, and social outcomes.\n- **Iterative Improvement**: Adjust policies based on evidence (e.g., dynamic cap-and-trade systems).\n\n### **Example Applications**\n- **Water Allocation**: Prioritize drinking water, then agriculture/industry via permits, with ecosystem reserves.\n- **Healthcare**: Universal basic care first, then cost-benefit analysis for high-cost treatments.\n- **Carbon Budgets**: Per-capita emissions rights with trading, but capped globally.\n\n### **Ethical Dilemmas & Mitigations**\n- **Tragedy of the Commons**: Enforce quotas with penalties for overuse.\n- **Free-Rider Problem**: Require contributions (e.g., taxes for public goods).\n- **Short-Term vs. Long-Term**: Discount rates should favor sustainability.\n\n### **Conclusion**\nA fair system must be **principled yet flexible**, combining needs-based fairness, market efficiency, and democratic deliberation. By embedding transparency, participation, and adaptive learning, it can navigate ethical trade-offs while minimizing harm. The exact design will vary by context, but this framework ensures no single interest dominates at the expense of others."
     },
     "metadata": {},
     "output_type": "display_data"
    }
   ],
   "execution_count": 13
  },
  {
   "metadata": {
    "ExecuteTime": {
     "end_time": "2025-07-09T18:41:03.203712Z",
     "start_time": "2025-07-09T18:40:38.962629Z"
    }
   },
   "cell_type": "code",
   "source": [
    "groq = OpenAI(\n",
    "    api_key=groq_api_key,\n",
    "    base_url=\"https://api.x.ai/v1\"\n",
    ")\n",
    "model_name = \"grok-3\"\n",
    "\n",
    "response = groq.chat.completions.create(\n",
    "    model=model_name,\n",
    "    messages=messages,\n",
    ")\n",
    "answer = response.choices[0].message.content\n",
    "\n",
    "display(Markdown(answer))\n",
    "competitors.append(model_name)\n",
    "answers.append(answer)"
   ],
   "id": "44fe1b5facc2067e",
   "outputs": [
    {
     "data": {
      "text/plain": [
       "<IPython.core.display.Markdown object>"
      ],
      "text/markdown": "Designing a fair system for allocating limited resources among competing interests is a complex challenge that requires balancing individual rights, collective well-being, and long-term sustainability while addressing ethical dilemmas and mitigating unforeseen consequences. Below, I outline a comprehensive framework for such a system, broken into key principles, mechanisms, and considerations. This approach integrates ethical reasoning, systems thinking, and adaptive governance.\n\n---\n\n### **1. Core Principles for Fair Allocation**\nThese principles serve as the foundation for the system and guide decision-making:\n\n- **Equity and Justice**: Ensure that resources are distributed in a way that addresses historical inequalities and prioritizes the needs of the most vulnerable. This aligns with theories of distributive justice (e.g., Rawls’ \"veil of ignorance\") by considering fairness without bias toward personal circumstances.\n- **Transparency and Accountability**: All allocation decisions must be transparent, with clear criteria and processes. Stakeholders should have access to information and mechanisms to hold decision-makers accountable.\n- **Proportionality**: Allocation should reflect the relative needs, contributions, and impacts of individuals or groups. This avoids over- or under-allocation to any single party.\n- **Sustainability**: Decisions must prioritize the long-term availability of resources, ensuring that future generations are not deprived (intergenerational equity, as emphasized in the Brundtland Report).\n- **Participation and Inclusivity**: All affected parties should have a voice in the allocation process to ensure diverse perspectives and avoid marginalization.\n\n---\n\n### **2. Mechanisms for Resource Allocation**\nThe system would employ a hybrid model combining priority-based criteria, participatory governance, and adaptive management:\n\n#### **a. Needs-Based Prioritization**\n- Develop a framework to assess and rank needs based on objective criteria (e.g., survival, health, education, or economic stability). For example, in a water-scarce region, priority might be given to drinking water over industrial use.\n- Use data-driven tools (e.g., surveys, demographic analysis) to identify urgent needs and avoid subjective bias.\n\n#### **b. Participatory Decision-Making**\n- Establish stakeholder councils or forums representing diverse groups (e.g., individuals, communities, businesses, environmental advocates) to deliberate on allocation priorities.\n- Employ deliberative democracy techniques, such as citizen assemblies, to ensure inclusive input and reduce the risk of elite capture or lobbying by powerful interests.\n\n#### **c. Market and Non-Market Hybrid Mechanisms**\n- Where appropriate, use market mechanisms like cap-and-trade systems or auctions to allocate resources efficiently (e.g., carbon credits for emissions). However, pair these with safeguards to prevent exploitation of disadvantaged groups.\n- For essential resources (e.g., food, water, healthcare), employ non-market mechanisms like rationing or subsidies to ensure equitable access regardless of economic status.\n\n#### **d. Monitoring and Adaptive Management**\n- Implement real-time monitoring of resource use and outcomes using technology (e.g., IoT sensors for water or energy usage) to detect inefficiencies or inequities.\n- Build flexibility into the system to adjust allocations based on changing conditions (e.g., climate shifts, population growth) or unforeseen consequences.\n\n---\n\n### **3. Balancing Individual Rights, Collective Well-Being, and Sustainability**\nThese three dimensions often conflict, so the system must explicitly address trade-offs:\n\n- **Individual Rights**: Protect personal freedoms and property rights by ensuring that allocation does not arbitrarily strip individuals of access to resources they depend on. For instance, if land is reallocated for conservation, affected individuals should receive fair compensation or alternative resources.\n- **Collective Well-Being**: Prioritize public goods (e.g., clean air, public health) over individual gains when necessary, using evidence-based justifications. For example, during a pandemic, vaccine distribution might prioritize healthcare workers and vulnerable populations over others.\n- **Long-Term Sustainability**: Incorporate scientific models (e.g., ecological carrying capacity, climate projections) to set limits on resource extraction or use. Policies like renewable energy quotas or reforestation mandates can ensure resources are not depleted.\n\nTo balance these, the system should use a **multi-criteria decision analysis (MCDA)** framework, weighting factors like urgency, impact, and future risks. Regular reviews and stakeholder feedback can help refine this balance over time.\n\n---\n\n### **4. Addressing Ethical Dilemmas**\nEthical challenges arise when values or priorities conflict. The system should anticipate and address these through structured ethical reasoning:\n\n- **Dilemma: Equity vs. Efficiency**\n  - Example: Allocating medical resources during a crisis—should resources go to those most likely to survive (efficiency) or those most in need (equity)?\n  - Solution: Adopt a hybrid approach, such as triage protocols that consider both need and likelihood of benefit, while ensuring transparent justification for decisions.\n  \n- **Dilemma: Present Needs vs. Future Generations**\n  - Example: Mining rare minerals for current technology needs may deplete reserves for future use.\n  - Solution: Enforce strict sustainability quotas and invest in alternatives (e.g., recycling, synthetic substitutes) to reduce long-term harm, guided by the precautionary principle.\n\n- **Dilemma: Individual vs. Collective Good**\n  - Example: Restricting water use for farming to preserve a communal reservoir may harm individual farmers.\n  - Solution: Provide compensation or support (e.g., subsidies, alternative livelihoods) to mitigate individual losses while achieving collective benefits.\n\nAn independent ethics board, comprising philosophers, community leaders, and experts, can oversee contentious decisions and ensure alignment with the core principles.\n\n---\n\n### **5. Mitigating Unforeseen Consequences**\nUnintended outcomes are inevitable in complex systems. The design must include safeguards and adaptive strategies:\n\n- **Scenario Planning**: Use simulations and modeling to anticipate potential outcomes of allocation decisions under different conditions (e.g., economic downturns, natural disasters).\n- **Pilot Programs**: Test allocation mechanisms on a small scale before full implementation to identify flaws or side effects.\n- **Feedback Loops**: Establish mechanisms for continuous feedback from stakeholders to detect issues early (e.g., community reporting systems for resource shortages).\n- **Reserve Mechanisms**: Maintain emergency reserves of critical resources (e.g., food, water, energy) to address unexpected shortages or crises.\n- **Learning Systems**: Document and analyze past decisions and outcomes to build institutional knowledge and improve future allocations.\n\n---\n\n### **6. Implementation Considerations**\nTo operationalize this system, several practical steps are necessary:\n- **Legal and Policy Framework**: Codify the principles and mechanisms into law or policy to ensure enforceability and consistency.\n- **Capacity Building**: Train decision-makers and stakeholders in ethical reasoning, data analysis, and conflict resolution to support effective governance.\n- **Technology Integration**: Leverage AI and data analytics for resource tracking, needs assessment, and predictive modeling, while ensuring data privacy and security.\n- **Global and Local Alignment**: For resources with global implications (e.g., climate, fisheries), coordinate with international frameworks while tailoring solutions to local contexts.\n\n---\n\n### **7. Example Application: Water Allocation in a Drought-Prone Region**\n- **Context**: A region faces water scarcity, with competing demands from agriculture, urban households, and environmental conservation.\n- **Allocation System**:\n  - **Needs Assessment**: Prioritize drinking water for households, followed by irrigation for food security, and minimum flows for ecosystems.\n  - **Participatory Process**: Form a regional water council with representatives from farmers, residents, and environmentalists to negotiate allocations.\n  - **Mechanisms**: Use a tiered pricing system to discourage overuse in agriculture, paired with subsidies for low-income households to ensure access.\n  - **Sustainability**: Set caps on total extraction based on aquifer recharge rates, with penalties for overuse.\n  - **Ethics**: Address dilemmas (e.g., farmers losing income due to cuts) by offering alternative income sources or drought-resistant crop support.\n  - **Adaptation**: Monitor rainfall and usage data to adjust allocations seasonally, with emergency reserves for extreme droughts.\n\n---\n\n### **Conclusion**\nThis system aims to allocate limited resources fairly by grounding decisions in equity, transparency, and sustainability while balancing individual and collective needs. By integrating participatory governance, adaptive management, and ethical oversight, it minimizes bias and harm. However, no system is perfect—ongoing evaluation and openness to revision are critical to address evolving challenges and unintended consequences. This framework provides a robust starting point, adaptable to specific contexts like water, energy, or healthcare, while striving for a just and sustainable future."
     },
     "metadata": {},
     "output_type": "display_data"
    }
   ],
   "execution_count": 22
  },
  {
   "metadata": {
    "jupyter": {
     "is_executing": true
    },
    "ExecuteTime": {
     "start_time": "2025-07-09T19:03:36.947033Z"
    }
   },
   "cell_type": "code",
   "source": [
    "gemma_3b = OpenAI(\n",
    "    base_url=\"http://localhost:11434/v1\",\n",
    "    api_key=\"ollama\"\n",
    ")\n",
    "\n",
    "model_name = \"gemma3:12b\"\n",
    "\n",
    "response = gemma_3b.chat.completions.create(\n",
    "    model=model_name,\n",
    "    messages=messages,\n",
    ")\n",
    "answer = response.choices[0].message.content\n",
    "\n",
    "display(Markdown(answer))\n",
    "competitors.append(model_name)\n",
    "answers.append(answer)"
   ],
   "id": "75d97194100b2ed4",
   "outputs": [],
   "execution_count": null
  },
  {
   "metadata": {},
   "cell_type": "code",
   "outputs": [],
   "execution_count": null,
   "source": "",
   "id": "e3b8d0d57601a5a0"
  }
 ],
 "metadata": {
  "kernelspec": {
   "display_name": "Python 3",
   "language": "python",
   "name": "python3"
  },
  "language_info": {
   "codemirror_mode": {
    "name": "ipython",
    "version": 2
   },
   "file_extension": ".py",
   "mimetype": "text/x-python",
   "name": "python",
   "nbconvert_exporter": "python",
   "pygments_lexer": "ipython2",
   "version": "2.7.6"
  }
 },
 "nbformat": 4,
 "nbformat_minor": 5
}
