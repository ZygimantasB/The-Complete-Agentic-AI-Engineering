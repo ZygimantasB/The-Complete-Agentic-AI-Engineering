{
 "cells": [
  {
   "cell_type": "code",
   "id": "initial_id",
   "metadata": {
    "collapsed": true,
    "ExecuteTime": {
     "end_time": "2025-07-09T18:04:38.721563Z",
     "start_time": "2025-07-09T18:04:37.169946Z"
    }
   },
   "source": [
    "import os\n",
    "import json\n",
    "from dotenv import load_dotenv\n",
    "from openai import OpenAI\n",
    "from anthropic import Anthropic\n",
    "from IPython.display import display, Markdown\n",
    "from urllib3 import request"
   ],
   "outputs": [],
   "execution_count": 1
  },
  {
   "metadata": {
    "ExecuteTime": {
     "end_time": "2025-07-09T18:04:39.000888Z",
     "start_time": "2025-07-09T18:04:38.993397Z"
    }
   },
   "cell_type": "code",
   "source": "load_dotenv(override=True)",
   "id": "9508da2ff924d31f",
   "outputs": [
    {
     "data": {
      "text/plain": [
       "True"
      ]
     },
     "execution_count": 2,
     "metadata": {},
     "output_type": "execute_result"
    }
   ],
   "execution_count": 2
  },
  {
   "metadata": {
    "ExecuteTime": {
     "end_time": "2025-07-09T18:04:39.017630Z",
     "start_time": "2025-07-09T18:04:39.011724Z"
    }
   },
   "cell_type": "code",
   "source": [
    "openai_api_key = os.getenv(\"OPENAI_API_KEY\")\n",
    "anthropic_api_key = os.getenv(\"ANTHROPIC_API_KEY\")\n",
    "google_api_key = os.getenv(\"GEMINI_API_KEY\")\n",
    "deepseek_api_key = os.getenv(\"DEEPSEEK_API_KEY\")\n",
    "groq_api_key = os.getenv(\"GROQ_API_KEY\")"
   ],
   "id": "fc1e005e3e7248f7",
   "outputs": [],
   "execution_count": 3
  },
  {
   "metadata": {
    "ExecuteTime": {
     "end_time": "2025-07-09T18:04:39.041644Z",
     "start_time": "2025-07-09T18:04:39.037139Z"
    }
   },
   "cell_type": "code",
   "source": [
    "if openai_api_key:\n",
    "    print(f\"OpenAI API Key exists and begins {openai_api_key[:5]}...\")\n",
    "else:\n",
    "    print(\"OpenAI API Key not found\")\n",
    "if anthropic_api_key:\n",
    "    print(f\"Anthropic API Key exists and begins {anthropic_api_key[:5]}...\")\n",
    "else:\n",
    "    print(\"Anthropic API Key not found\")\n",
    "if google_api_key:\n",
    "    print(f\"Google API Key exists and begins {google_api_key[:5]}...\")\n",
    "else:\n",
    "    print(\"Google API Key not found\")\n",
    "if deepseek_api_key:\n",
    "    print(f\"DeepSeek API Key exists and begins {deepseek_api_key[:5]}...\")\n",
    "else:\n",
    "    print(\"DeepSeek API Key not found\")\n",
    "if groq_api_key:\n",
    "    print(f\"Groq API Key exists and begins {groq_api_key[:5]}...\")\n",
    "else:\n",
    "    print(f\"Groq API Key not found\")"
   ],
   "id": "a24c0b45f8d8f1a1",
   "outputs": [
    {
     "name": "stdout",
     "output_type": "stream",
     "text": [
      "OpenAI API Key exists and begins sk-pr...\n",
      "Anthropic API Key exists and begins sk-an...\n",
      "Google API Key exists and begins AIzaS...\n",
      "DeepSeek API Key exists and begins sk-7e...\n",
      "Groq API Key exists and begins xai-9...\n"
     ]
    }
   ],
   "execution_count": 4
  },
  {
   "metadata": {
    "ExecuteTime": {
     "end_time": "2025-07-09T18:04:39.057257Z",
     "start_time": "2025-07-09T18:04:39.054257Z"
    }
   },
   "cell_type": "code",
   "source": [
    "request = \"Please come up with a challenging, nuanced question that I can ask a number of LLMs to evaluate their intelligence. \"\n",
    "request += \"Answer only with the question, no explanation.\"\n",
    "messages = [{\"role\": \"user\", \"content\": request}]"
   ],
   "id": "6edc1ec3e994c46a",
   "outputs": [],
   "execution_count": 5
  },
  {
   "metadata": {
    "ExecuteTime": {
     "end_time": "2025-07-09T18:04:39.069754Z",
     "start_time": "2025-07-09T18:04:39.064962Z"
    }
   },
   "cell_type": "code",
   "source": "messages",
   "id": "ba06909e295110f3",
   "outputs": [
    {
     "data": {
      "text/plain": [
       "[{'role': 'user',\n",
       "  'content': 'Please come up with a challenging, nuanced question that I can ask a number of LLMs to evaluate their intelligence. Answer only with the question, no explanation.'}]"
      ]
     },
     "execution_count": 6,
     "metadata": {},
     "output_type": "execute_result"
    }
   ],
   "execution_count": 6
  },
  {
   "metadata": {
    "ExecuteTime": {
     "end_time": "2025-07-09T18:04:44.403049Z",
     "start_time": "2025-07-09T18:04:39.079462Z"
    }
   },
   "cell_type": "code",
   "source": [
    "openai = OpenAI()\n",
    "response = openai.chat.completions.create(\n",
    "    model=\"gpt-4o-mini\",\n",
    "    messages=messages,\n",
    "    max_tokens=10000,\n",
    ")\n",
    "\n",
    "question = response.choices[0].message.content\n",
    "print(question)"
   ],
   "id": "c1ea599e9a36fab2",
   "outputs": [
    {
     "name": "stdout",
     "output_type": "stream",
     "text": [
      "How would you design a fair system for allocating limited resources among competing interests in a way that balances individual rights, collective well-being, and long-term sustainability, considering potential ethical dilemmas and unforeseen consequences?\n"
     ]
    }
   ],
   "execution_count": 7
  },
  {
   "metadata": {
    "ExecuteTime": {
     "end_time": "2025-07-09T18:04:44.422780Z",
     "start_time": "2025-07-09T18:04:44.419247Z"
    }
   },
   "cell_type": "code",
   "source": [
    "competitors = []\n",
    "answers = []\n",
    "messages = [{\"role\": \"user\", \"content\": question}]"
   ],
   "id": "121b3a32043832b8",
   "outputs": [],
   "execution_count": 8
  },
  {
   "metadata": {
    "ExecuteTime": {
     "end_time": "2025-07-09T18:04:59.662801Z",
     "start_time": "2025-07-09T18:04:44.443596Z"
    }
   },
   "cell_type": "code",
   "source": [
    "model_name = \"gpt-4o-mini\"\n",
    "\n",
    "response = openai.chat.completions.create(\n",
    "    model=model_name,\n",
    "    messages=messages,\n",
    "    max_tokens=10_000,\n",
    ")\n",
    "\n",
    "answer = response.choices[0].message.content\n",
    "\n",
    "display(Markdown(answer))\n",
    "competitors.append(model_name)\n",
    "answers.append(answer)"
   ],
   "id": "f35dc2dbe548b7e5",
   "outputs": [
    {
     "data": {
      "text/plain": [
       "<IPython.core.display.Markdown object>"
      ],
      "text/markdown": "Designing a fair system for allocating limited resources among competing interests is a complex challenge that requires a multi-faceted approach. Here’s a structured framework that incorporates principles of equity, collective welfare, and sustainability, along with considerations for ethical dilemmas and potential unforeseen consequences.\n\n### 1. **Principles of Fairness and Equity**\n   - **Equity vs. Equality**: Recognize that fairness may require differentiated treatment based on individuals' or groups' specific needs and contributions. Develop criteria for assessing need and contribution.\n   - **Transparency**: Ensure that the processes for allocation are transparent to all stakeholders. Clear communication builds trust and accountability.\n\n### 2. **Stakeholder Engagement**\n   - **Inclusive Participation**: Involve stakeholders from different backgrounds, including marginalized communities, in the decision-making process. \n   - **Collective Bargaining**: Facilitate a dialogue where stakeholders can negotiate their needs and concerns, aiming for compromise solutions.\n\n### 3. **Allocation Framework**\n   - **Needs Assessment**: Conduct thorough assessments to identify the needs of different stakeholders. Use data-driven approaches to prioritize those most in need.\n   - **Weighted Metrics**: Develop a scoring system that weighs various factors (need, contribution, potential impact) in allocation decisions.\n\n### 4. **Dynamic Adaptability**\n   - **Elastic Allocation Mechanism**: Create an adaptable model that can respond to changing circumstances, resource availability, and emerging needs.\n   - **Feedback Mechanisms**: Implement systems to monitor outcomes and gather stakeholder feedback to continuously adjust the allocation process.\n\n### 5. **Ethical Considerations**\n   - **Utilitarian vs. Deontological Ethics**: Balance the greatest good for the greatest number with respect for individual rights. A dual-approach can guide ethical dilemmas.\n   - **Intergenerational Equity**: Consider the impact of resource allocation on future generations, ensuring sustainability is a core component of all decisions.\n\n### 6. **Long-term Sustainability**\n   - **Sustainable Practices**: Integrate environmental stewardship into the allocation process, emphasizing renewable resources and conservation measures.\n   - **Education and Awareness**: Promote understanding of sustainability and resource limits, encouraging community-level initiatives to reduce overconsumption.\n\n### 7. **Risk Management for Unforeseen Consequences**\n   - **Scenario Planning**: Use scenario modeling to identify potential risks and develop contingency plans for unexpected outcomes.\n   - **Adaptive Management**: Foster a flexible management style that allows for quick pivoting in response to new information or crises.\n\n### 8. **Evaluation and Accountability**\n   - **Regular Reviews**: Establish a system for periodic assessment of the allocation process, outcomes, and stakeholder satisfaction.\n   - **Accountability Mechanisms**: Incorporate checks and balances to hold decision-makers accountable for the fairness and effectiveness of the allocation.\n\n### 9. **Technology and Innovation**\n   - **Data-Driven Decisions**: Utilize big data and analytics to inform allocation strategies and understand resource distribution patterns.\n   - **Digital Platforms for Transparency**: Develop online platforms where resource allocation decisions are shared, justified, and open for public scrutiny.\n\n### 10. **Policy Framework**\n   - **Legislative Support**: Advocate for policies that reinforce ethical resource allocation at local, national, and international levels, ensuring long-term commitment to these principles.\n\nBy combining these elements, the system can help to balance individual rights, collective well-being, and long-term sustainability, addressing both existing competing interests and ethical dilemmas as they arise."
     },
     "metadata": {},
     "output_type": "display_data"
    }
   ],
   "execution_count": 9
  },
  {
   "metadata": {
    "ExecuteTime": {
     "end_time": "2025-07-09T18:04:59.692623Z",
     "start_time": "2025-07-09T18:04:59.688193Z"
    }
   },
   "cell_type": "code",
   "source": "",
   "id": "518d871aeea20114",
   "outputs": [],
   "execution_count": null
  }
 ],
 "metadata": {
  "kernelspec": {
   "display_name": "Python 3",
   "language": "python",
   "name": "python3"
  },
  "language_info": {
   "codemirror_mode": {
    "name": "ipython",
    "version": 2
   },
   "file_extension": ".py",
   "mimetype": "text/x-python",
   "name": "python",
   "nbconvert_exporter": "python",
   "pygments_lexer": "ipython2",
   "version": "2.7.6"
  }
 },
 "nbformat": 4,
 "nbformat_minor": 5
}
