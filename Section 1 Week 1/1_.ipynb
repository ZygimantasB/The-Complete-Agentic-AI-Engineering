{
 "cells": [
  {
   "cell_type": "code",
   "id": "initial_id",
   "metadata": {
    "collapsed": true,
    "ExecuteTime": {
     "end_time": "2025-07-07T18:04:31.106487Z",
     "start_time": "2025-07-07T18:04:31.093688Z"
    }
   },
   "source": [
    "from dotenv import load_dotenv\n",
    "\n",
    "from agents.setup.troubleshooting import response"
   ],
   "outputs": [],
   "execution_count": 1
  },
  {
   "metadata": {
    "ExecuteTime": {
     "end_time": "2025-07-07T18:04:33.512758Z",
     "start_time": "2025-07-07T18:04:33.504360Z"
    }
   },
   "cell_type": "code",
   "source": "load_dotenv(override=True)",
   "id": "d09d0363e73af9e7",
   "outputs": [
    {
     "data": {
      "text/plain": [
       "True"
      ]
     },
     "execution_count": 2,
     "metadata": {},
     "output_type": "execute_result"
    }
   ],
   "execution_count": 2
  },
  {
   "metadata": {
    "ExecuteTime": {
     "end_time": "2025-07-07T18:04:46.132254Z",
     "start_time": "2025-07-07T18:04:46.128191Z"
    }
   },
   "cell_type": "code",
   "source": [
    "import os\n",
    "gemini_api_key = os.getenv('GEMINI_API_KEY')\n",
    "\n",
    "if gemini_api_key:\n",
    "    print(f\"Gemini API Key exists and begins {gemini_api_key[:8]}\")\n",
    "else:\n",
    "    print(\"Gemini API Key not set - please head to the troubleshooting guide in the setup folder\")"
   ],
   "id": "f1189dbfff598c7f",
   "outputs": [
    {
     "name": "stdout",
     "output_type": "stream",
     "text": [
      "Gemini API Key exists and begins AIzaSyAu\n"
     ]
    }
   ],
   "execution_count": 3
  },
  {
   "metadata": {
    "ExecuteTime": {
     "end_time": "2025-07-07T18:08:37.265523Z",
     "start_time": "2025-07-07T18:08:37.262013Z"
    }
   },
   "cell_type": "code",
   "source": [
    "import google.generativeai as genai\n",
    "\n",
    "model = genai.GenerativeModel('gemini-2.5-flash')"
   ],
   "id": "efc0dfb4ced12831",
   "outputs": [],
   "execution_count": 18
  },
  {
   "metadata": {
    "ExecuteTime": {
     "end_time": "2025-07-07T18:08:37.502957Z",
     "start_time": "2025-07-07T18:08:37.499457Z"
    }
   },
   "cell_type": "code",
   "source": "messages = [{\"role\": \"user\", \"content\": \"What is 2+2?\"}]",
   "id": "3cd2779810330704",
   "outputs": [],
   "execution_count": 19
  },
  {
   "metadata": {
    "ExecuteTime": {
     "end_time": "2025-07-07T18:11:47.484471Z",
     "start_time": "2025-07-07T18:11:47.040491Z"
    }
   },
   "cell_type": "code",
   "source": "response = model.generate_content(messages[0][\"content\"])",
   "id": "f5de2cc5907d1f8c",
   "outputs": [],
   "execution_count": 27
  },
  {
   "metadata": {
    "ExecuteTime": {
     "end_time": "2025-07-07T18:12:07.720239Z",
     "start_time": "2025-07-07T18:12:07.715906Z"
    }
   },
   "cell_type": "code",
   "source": "response.text",
   "id": "17064374b0f6531c",
   "outputs": [
    {
     "data": {
      "text/plain": [
       "'2+2 is 4.'"
      ]
     },
     "execution_count": 30,
     "metadata": {},
     "output_type": "execute_result"
    }
   ],
   "execution_count": 30
  },
  {
   "metadata": {
    "ExecuteTime": {
     "end_time": "2025-07-07T18:14:31.451743Z",
     "start_time": "2025-07-07T18:14:31.447737Z"
    }
   },
   "cell_type": "code",
   "source": [
    "question = \"Please propose a hard, challenging question to assess someone's IQ. Respond only with the question.\"\n",
    "new_messages = [{\"role\": \"user\", \"content\": question}]"
   ],
   "id": "fae1e74925799e49",
   "outputs": [],
   "execution_count": 35
  },
  {
   "metadata": {
    "ExecuteTime": {
     "end_time": "2025-07-07T18:14:57.704632Z",
     "start_time": "2025-07-07T18:14:34.197262Z"
    }
   },
   "cell_type": "code",
   "source": "question = model.generate_content(new_messages[0][\"content\"])",
   "id": "65f8fe79d9c9eaeb",
   "outputs": [],
   "execution_count": 36
  },
  {
   "metadata": {
    "ExecuteTime": {
     "end_time": "2025-07-07T18:15:48.397525Z",
     "start_time": "2025-07-07T18:15:48.391492Z"
    }
   },
   "cell_type": "code",
   "source": "question.text",
   "id": "7e41cb6bea35e05f",
   "outputs": [
    {
     "data": {
      "text/plain": [
       "'1, 2, 4, 8, 16, 31, 62, 124, 248, ?'"
      ]
     },
     "execution_count": 38,
     "metadata": {},
     "output_type": "execute_result"
    }
   ],
   "execution_count": 38
  },
  {
   "metadata": {
    "ExecuteTime": {
     "end_time": "2025-07-07T18:16:40.780725Z",
     "start_time": "2025-07-07T18:16:40.777339Z"
    }
   },
   "cell_type": "code",
   "source": "messages_1 = [{\"role\": \"user\", \"content\": question.text}]",
   "id": "962d5423cd314b64",
   "outputs": [],
   "execution_count": 40
  },
  {
   "metadata": {
    "ExecuteTime": {
     "end_time": "2025-07-07T18:16:45.974296Z",
     "start_time": "2025-07-07T18:16:41.326208Z"
    }
   },
   "cell_type": "code",
   "source": "new_response = model.generate_content(messages_1[0][\"content\"])",
   "id": "53aa0baa69ca876",
   "outputs": [],
   "execution_count": 41
  },
  {
   "metadata": {
    "ExecuteTime": {
     "end_time": "2025-07-07T18:19:11.877781Z",
     "start_time": "2025-07-07T18:19:11.873836Z"
    }
   },
   "cell_type": "code",
   "source": "import pprint",
   "id": "df0bc8aa0a63167",
   "outputs": [],
   "execution_count": 50
  },
  {
   "metadata": {
    "ExecuteTime": {
     "end_time": "2025-07-07T18:19:12.329785Z",
     "start_time": "2025-07-07T18:19:12.324030Z"
    }
   },
   "cell_type": "code",
   "source": "pprint.pprint(new_response.text)",
   "id": "2d896fb0976d33ca",
   "outputs": [
    {
     "name": "stdout",
     "output_type": "stream",
     "text": [
      "(\"Let's analyze the sequence:\\n\"\n",
      " '\\n'\n",
      " '1.  **1, 2, 4, 8, 16:** Each number is double the previous one (x2).\\n'\n",
      " \"2.  **16, 31:** Instead of 16 * 2 = 32, it's 31. This is (16 * 2) - 1.\\n\"\n",
      " '3.  **31, 62:** 31 * 2 = 62.\\n'\n",
      " '4.  **62, 124:** 62 * 2 = 124.\\n'\n",
      " '5.  **124, 248:** 124 * 2 = 248.\\n'\n",
      " '\\n'\n",
      " 'It appears the pattern is \"multiply by 2\", with a single deviation where (x2 '\n",
      " '- 1) was applied to 16 to get 31. After that, it reverted to multiplying by '\n",
      " '2.\\n'\n",
      " '\\n'\n",
      " 'So, for the next number after 248, we simply multiply by 2:\\n'\n",
      " '\\n'\n",
      " '248 * 2 = **496**\\n'\n",
      " '\\n'\n",
      " 'The complete sequence is: 1, 2, 4, 8, 16, (16*2)-1=31, 31*2=62, 62*2=124, '\n",
      " '124*2=248, 248*2=**496**.')\n"
     ]
    }
   ],
   "execution_count": 51
  }
 ],
 "metadata": {
  "kernelspec": {
   "display_name": "Python 3",
   "language": "python",
   "name": "python3"
  },
  "language_info": {
   "codemirror_mode": {
    "name": "ipython",
    "version": 2
   },
   "file_extension": ".py",
   "mimetype": "text/x-python",
   "name": "python",
   "nbconvert_exporter": "python",
   "pygments_lexer": "ipython2",
   "version": "2.7.6"
  }
 },
 "nbformat": 4,
 "nbformat_minor": 5
}
